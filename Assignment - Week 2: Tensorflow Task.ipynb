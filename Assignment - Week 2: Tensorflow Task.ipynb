{
 "cells": [
  {
   "cell_type": "markdown",
   "metadata": {
    "slideshow": {
     "slide_type": "slide"
    }
   },
   "source": [
    "# Going deeper with Tensorflow\n",
    "\n",
    "In this video, we're going to study the tools you'll use to build deep learning models. Namely, [Tensorflow](https://www.tensorflow.org/).\n",
    "\n",
    "If you're running this notebook outside the course environment, you'll need to install tensorflow:\n",
    "* `pip install tensorflow` should install cpu-only TF on Linux & Mac OS\n",
    "* If you want GPU support from offset, see [TF install page](https://www.tensorflow.org/install/)"
   ]
  },
  {
   "cell_type": "code",
   "execution_count": 1,
   "metadata": {
    "collapsed": true
   },
   "outputs": [],
   "source": [
    "import sys\n",
    "sys.path.append(\"..\")\n",
    "import grading"
   ]
  },
  {
   "cell_type": "markdown",
   "metadata": {},
   "source": [
    "# Visualization"
   ]
  },
  {
   "cell_type": "markdown",
   "metadata": {},
   "source": [
    "Plase note that if you are running on the Coursera platform, you won't be able to access the tensorboard instance due to the network setup there. If you run the notebook locally, you should be able to access TensorBoard on http://127.0.0.1:7007/"
   ]
  },
  {
   "cell_type": "code",
   "execution_count": 118,
   "metadata": {},
   "outputs": [
    {
     "name": "stdout",
     "output_type": "stream",
     "text": [
      "tensorboard: no process found\r\n"
     ]
    }
   ],
   "source": [
    "! killall tensorboard\n",
    "import os\n",
    "os.system(\"tensorboard --logdir=/tmp/tboard --port=7007 &\");"
   ]
  },
  {
   "cell_type": "code",
   "execution_count": 119,
   "metadata": {},
   "outputs": [
    {
     "name": "stderr",
     "output_type": "stream",
     "text": [
      "/usr/local/lib/python3.5/dist-packages/tensorflow/python/client/session.py:1711: UserWarning: An interactive session is already active. This can cause out-of-memory errors in some cases. You must explicitly call `InteractiveSession.close()` to release resources held by the other session(s).\n",
      "  warnings.warn('An interactive session is already active. This can '\n"
     ]
    }
   ],
   "source": [
    "import tensorflow as tf\n",
    "s = tf.InteractiveSession()"
   ]
  },
  {
   "cell_type": "markdown",
   "metadata": {},
   "source": [
    "# Warming up\n",
    "For starters, let's implement a python function that computes the sum of squares of numbers from 0 to N-1."
   ]
  },
  {
   "cell_type": "code",
   "execution_count": 5,
   "metadata": {
    "collapsed": true
   },
   "outputs": [],
   "source": [
    "import numpy as np\n",
    "def sum_sin(N):\n",
    "    return np.sum(np.arange(N)**2)"
   ]
  },
  {
   "cell_type": "code",
   "execution_count": 11,
   "metadata": {},
   "outputs": [
    {
     "name": "stdout",
     "output_type": "stream",
     "text": [
      "CPU times: user 84.2 ms, sys: 168 ms, total: 253 ms\n",
      "Wall time: 274 ms\n"
     ]
    },
    {
     "data": {
      "text/plain": [
       "1291890006563070912"
      ]
     },
     "execution_count": 11,
     "metadata": {},
     "output_type": "execute_result"
    }
   ],
   "source": [
    "%%time\n",
    "sum_sin(10**7)"
   ]
  },
  {
   "cell_type": "markdown",
   "metadata": {},
   "source": [
    "# Tensorflow teaser\n",
    "\n",
    "Doing the very same thing"
   ]
  },
  {
   "cell_type": "code",
   "execution_count": 7,
   "metadata": {
    "collapsed": true
   },
   "outputs": [],
   "source": [
    "# An integer parameter\n",
    "N = tf.placeholder('int64', name=\"input_to_your_function\")\n",
    "\n",
    "# A recipe on how to produce the same result\n",
    "result = tf.reduce_sum(tf.range(N)**2)"
   ]
  },
  {
   "cell_type": "code",
   "execution_count": 8,
   "metadata": {},
   "outputs": [
    {
     "data": {
      "text/plain": [
       "<tf.Tensor 'Sum:0' shape=() dtype=int64>"
      ]
     },
     "execution_count": 8,
     "metadata": {},
     "output_type": "execute_result"
    }
   ],
   "source": [
    "result"
   ]
  },
  {
   "cell_type": "code",
   "execution_count": 12,
   "metadata": {},
   "outputs": [
    {
     "name": "stdout",
     "output_type": "stream",
     "text": [
      "CPU times: user 147 ms, sys: 69.5 ms, total: 216 ms\n",
      "Wall time: 144 ms\n"
     ]
    },
    {
     "data": {
      "text/plain": [
       "1291890006563070912"
      ]
     },
     "execution_count": 12,
     "metadata": {},
     "output_type": "execute_result"
    }
   ],
   "source": [
    "%%time\n",
    "result.eval({N: 10**7})"
   ]
  },
  {
   "cell_type": "code",
   "execution_count": 120,
   "metadata": {
    "collapsed": true
   },
   "outputs": [],
   "source": [
    "writer = tf.summary.FileWriter(\"/tmp/tboard\", graph=s.graph)"
   ]
  },
  {
   "cell_type": "markdown",
   "metadata": {},
   "source": [
    "# How does it work?\n",
    "1. Define placeholders where you'll send inputs\n",
    "2. Make symbolic graph: a recipe for mathematical transformation of those placeholders\n",
    "3. Compute outputs of your graph with particular values for each placeholder\n",
    "  * `output.eval({placeholder:value})`\n",
    "  * `s.run(output, {placeholder:value})`\n",
    "\n",
    "So far there are two main entities: \"placeholder\" and \"transformation\"\n",
    "* Both can be numbers, vectors, matrices, tensors, etc.\n",
    "* Both can be int32/64, floats, booleans (uint8) of various size.\n",
    "\n",
    "* You can define new transformations as an arbitrary operation on placeholders and other transformations\n",
    " * `tf.reduce_sum(tf.arange(N)**2)` are 3 sequential transformations of placeholder `N`\n",
    " * There's a tensorflow symbolic version for every numpy function\n",
    "   * `a+b, a/b, a**b, ...` behave just like in numpy\n",
    "   * `np.mean` -> `tf.reduce_mean`\n",
    "   * `np.arange` -> `tf.range`\n",
    "   * `np.cumsum` -> `tf.cumsum`\n",
    "   * If if you can't find the op you need, see the [docs](https://www.tensorflow.org/api_docs/python).\n",
    "   \n",
    "`tf.contrib` has many high-level features, may be worth a look."
   ]
  },
  {
   "cell_type": "code",
   "execution_count": 14,
   "metadata": {
    "collapsed": true
   },
   "outputs": [],
   "source": [
    "with tf.name_scope(\"Placeholders_examples\"):\n",
    "    # Default placeholder that can be arbitrary float32\n",
    "    # scalar, vertor, matrix, etc.\n",
    "    arbitrary_input = tf.placeholder('float32')\n",
    "\n",
    "    # Input vector of arbitrary length\n",
    "    input_vector = tf.placeholder('float32', shape=(None,))\n",
    "\n",
    "    # Input vector that _must_ have 10 elements and integer type\n",
    "    fixed_vector = tf.placeholder('int32', shape=(10,))\n",
    "\n",
    "    # Matrix of arbitrary n_rows and 15 columns\n",
    "    # (e.g. a minibatch your data table)\n",
    "    input_matrix = tf.placeholder('float32', shape=(None, 15))\n",
    "    \n",
    "    # You can generally use None whenever you don't need a specific shape\n",
    "    input1 = tf.placeholder('float64', shape=(None, 100, None))\n",
    "    input2 = tf.placeholder('int32', shape=(None, None, 3, 224, 224))\n",
    "\n",
    "    # elementwise multiplication\n",
    "    double_the_vector = input_vector*2\n",
    "\n",
    "    # elementwise cosine\n",
    "    elementwise_cosine = tf.cos(input_vector)\n",
    "\n",
    "    # difference between squared vector and vector itself plus one\n",
    "    vector_squares = input_vector**2 - input_vector + 1"
   ]
  },
  {
   "cell_type": "code",
   "execution_count": 15,
   "metadata": {
    "collapsed": true
   },
   "outputs": [],
   "source": [
    "my_vector =  tf.placeholder('float32', shape=(None,), name=\"VECTOR_1\")\n",
    "my_vector2 = tf.placeholder('float32', shape=(None,))\n",
    "my_transformation = my_vector * my_vector2 / (tf.sin(my_vector) + 1)"
   ]
  },
  {
   "cell_type": "code",
   "execution_count": 16,
   "metadata": {},
   "outputs": [
    {
     "name": "stdout",
     "output_type": "stream",
     "text": [
      "Tensor(\"truediv:0\", shape=(?,), dtype=float32)\n"
     ]
    }
   ],
   "source": [
    "print(my_transformation)"
   ]
  },
  {
   "cell_type": "code",
   "execution_count": 26,
   "metadata": {},
   "outputs": [
    {
     "name": "stdout",
     "output_type": "stream",
     "text": [
      "[0. 1. 2. 3. 4.]\n",
      "[4. 3. 2. 1. 0.]\n"
     ]
    },
    {
     "data": {
      "text/plain": [
       "array([0.       , 1.6291324, 2.0950115, 2.6289961, 0.       ],\n",
       "      dtype=float32)"
      ]
     },
     "execution_count": 26,
     "metadata": {},
     "output_type": "execute_result"
    }
   ],
   "source": [
    "dummy = np.arange(5).astype('float32')\n",
    "print(dummy)\n",
    "print(dummy[::-1])\n",
    "my_transformation.eval({my_vector:dummy, my_vector2:dummy[::-1]})"
   ]
  },
  {
   "cell_type": "code",
   "execution_count": 27,
   "metadata": {
    "collapsed": true
   },
   "outputs": [],
   "source": [
    "writer.add_graph(my_transformation.graph)\n",
    "writer.flush()"
   ]
  },
  {
   "cell_type": "markdown",
   "metadata": {},
   "source": [
    "TensorBoard allows writing scalars, images, audio, histogram. You can read more on tensorboard usage [here](https://www.tensorflow.org/get_started/graph_viz)."
   ]
  },
  {
   "cell_type": "markdown",
   "metadata": {},
   "source": [
    "# Summary\n",
    "* Tensorflow is based on computation graphs\n",
    "* The graphs consist of placehlders and transformations"
   ]
  },
  {
   "cell_type": "markdown",
   "metadata": {},
   "source": [
    "# Mean squared error\n",
    "\n",
    "Your assignment is to implement mean squared error in tensorflow."
   ]
  },
  {
   "cell_type": "code",
   "execution_count": 28,
   "metadata": {
    "collapsed": true
   },
   "outputs": [],
   "source": [
    "with tf.name_scope(\"MSE\"):\n",
    "    y_true = tf.placeholder(\"float32\", shape=(None,), name=\"y_true\")\n",
    "    y_predicted = tf.placeholder(\"float32\", shape=(None,), name=\"y_predicted\")\n",
    "    # Your code goes here\n",
    "    # You want to use tf.reduce_mean\n",
    "    mse = tf.reduce_mean((y_true-y_predicted)**2)\n",
    "    \n",
    "def compute_mse(vector1, vector2):\n",
    "    return mse.eval({y_true: vector1, y_predicted: vector2})"
   ]
  },
  {
   "cell_type": "code",
   "execution_count": 29,
   "metadata": {
    "collapsed": true
   },
   "outputs": [],
   "source": [
    "writer.add_graph(mse.graph)\n",
    "writer.flush()"
   ]
  },
  {
   "cell_type": "markdown",
   "metadata": {},
   "source": [
    "Tests and result submission. Please use the credentials obtained from the Coursera assignment page."
   ]
  },
  {
   "cell_type": "code",
   "execution_count": 30,
   "metadata": {
    "collapsed": true
   },
   "outputs": [],
   "source": [
    "import submit"
   ]
  },
  {
   "cell_type": "code",
   "execution_count": 31,
   "metadata": {},
   "outputs": [
    {
     "name": "stdout",
     "output_type": "stream",
     "text": [
      "Submitted to Coursera platform. See results on assignment page!\n"
     ]
    }
   ],
   "source": [
    "submit.submit_mse(compute_mse, \"goutham7r@gmail.com\", \"g2Ai6d4BeC7IaQeR\")"
   ]
  },
  {
   "cell_type": "markdown",
   "metadata": {},
   "source": [
    "# Variables\n",
    "\n",
    "The inputs and transformations have no value outside function call. This isn't too comfortable if you want your model to have parameters (e.g. network weights) that are always present, but can change their value over time.\n",
    "\n",
    "Tensorflow solves this with `tf.Variable` objects.\n",
    "* You can assign variable a value at any time in your graph\n",
    "* Unlike placeholders, there's no need to explicitly pass values to variables when `s.run(...)`-ing\n",
    "* You can use variables the same way you use transformations \n",
    " "
   ]
  },
  {
   "cell_type": "code",
   "execution_count": 32,
   "metadata": {
    "collapsed": true
   },
   "outputs": [],
   "source": [
    "# Creating a shared variable\n",
    "shared_vector_1 = tf.Variable(initial_value=np.ones(5),\n",
    "                              name=\"example_variable\")"
   ]
  },
  {
   "cell_type": "code",
   "execution_count": 33,
   "metadata": {},
   "outputs": [
    {
     "name": "stdout",
     "output_type": "stream",
     "text": [
      "Initial value [1. 1. 1. 1. 1.]\n"
     ]
    }
   ],
   "source": [
    "# Initialize variable(s) with initial values\n",
    "s.run(tf.global_variables_initializer())\n",
    "\n",
    "# Evaluating shared variable (outside symbolicd graph)\n",
    "print(\"Initial value\", s.run(shared_vector_1))\n",
    "\n",
    "# Within symbolic graph you use them just\n",
    "# as any other inout or transformation, not \"get value\" needed"
   ]
  },
  {
   "cell_type": "code",
   "execution_count": 34,
   "metadata": {},
   "outputs": [
    {
     "name": "stdout",
     "output_type": "stream",
     "text": [
      "New value [0. 1. 2. 3. 4.]\n"
     ]
    }
   ],
   "source": [
    "# Setting a new value\n",
    "s.run(shared_vector_1.assign(np.arange(5)))\n",
    "\n",
    "# Getting that new value\n",
    "print(\"New value\", s.run(shared_vector_1))"
   ]
  },
  {
   "cell_type": "markdown",
   "metadata": {},
   "source": [
    "# tf.gradients - why graphs matter\n",
    "* Tensorflow can compute derivatives and gradients automatically using the computation graph\n",
    "* True to its name it can manage matrix derivatives\n",
    "* Gradients are computed as a product of elementary derivatives via the chain rule:\n",
    "\n",
    "$$ {\\partial f(g(x)) \\over \\partial x} = {\\partial f(g(x)) \\over \\partial g(x)}\\cdot {\\partial g(x) \\over \\partial x} $$\n",
    "\n",
    "It can get you the derivative of any graph as long as it knows how to differentiate elementary operations"
   ]
  },
  {
   "cell_type": "code",
   "execution_count": 35,
   "metadata": {
    "collapsed": true
   },
   "outputs": [],
   "source": [
    "my_scalar = tf.placeholder('float32')\n",
    "\n",
    "scalar_squared = my_scalar**2\n",
    "\n",
    "# A derivative of scalar_squared by my_scalar\n",
    "derivative = tf.gradients(scalar_squared, [my_scalar, ])"
   ]
  },
  {
   "cell_type": "code",
   "execution_count": 36,
   "metadata": {},
   "outputs": [
    {
     "data": {
      "text/plain": [
       "[<tf.Tensor 'gradients/pow_1_grad/Reshape:0' shape=<unknown> dtype=float32>]"
      ]
     },
     "execution_count": 36,
     "metadata": {},
     "output_type": "execute_result"
    }
   ],
   "source": [
    "derivative"
   ]
  },
  {
   "cell_type": "code",
   "execution_count": 37,
   "metadata": {},
   "outputs": [
    {
     "data": {
      "image/png": "[encoded data removed]",
      "text/plain": [
       "<Figure size 432x288 with 1 Axes>"
      ]
     },
     "metadata": {},
     "output_type": "display_data"
    }
   ],
   "source": [
    "import matplotlib.pyplot as plt\n",
    "%matplotlib inline\n",
    "\n",
    "x = np.linspace(-3, 3)\n",
    "x_squared, x_squared_der = s.run([scalar_squared, derivative[0]],\n",
    "                                 {my_scalar:x})\n",
    "\n",
    "plt.plot(x, x_squared,label=\"$x^2$\")\n",
    "plt.plot(x, x_squared_der, label=r\"$\\frac{dx^2}{dx}$\")\n",
    "plt.legend();"
   ]
  },
  {
   "cell_type": "markdown",
   "metadata": {},
   "source": [
    "# Why that rocks"
   ]
  },
  {
   "cell_type": "code",
   "execution_count": 38,
   "metadata": {
    "collapsed": true
   },
   "outputs": [],
   "source": [
    "my_vector = tf.placeholder('float32', [None])\n",
    "# Compute the gradient of the next weird function over my_scalar and my_vector\n",
    "# Warning! Trying to understand the meaning of that function may result in permanent brain damage\n",
    "weird_psychotic_function = tf.reduce_mean(\n",
    "    (my_vector+my_scalar)**(1+tf.nn.moments(my_vector,[0])[1]) + \n",
    "    1./ tf.atan(my_scalar))/(my_scalar**2 + 1) + 0.01*tf.sin(\n",
    "    2*my_scalar**1.5)*(tf.reduce_sum(my_vector)* my_scalar**2\n",
    "                      )*tf.exp((my_scalar-4)**2)/(\n",
    "    1+tf.exp((my_scalar-4)**2))*(1.-(tf.exp(-(my_scalar-4)**2)\n",
    "                                    )/(1+tf.exp(-(my_scalar-4)**2)))**2\n",
    "\n",
    "der_by_scalar = tf.gradients(weird_psychotic_function, my_scalar)\n",
    "der_by_vector = tf.gradients(weird_psychotic_function, my_vector)"
   ]
  },
  {
   "cell_type": "code",
   "execution_count": 39,
   "metadata": {},
   "outputs": [
    {
     "data": {
      "image/png": "[encoded data removed]",
      "text/plain": [
       "<Figure size 432x288 with 1 Axes>"
      ]
     },
     "metadata": {},
     "output_type": "display_data"
    }
   ],
   "source": [
    "# Plotting the derivative\n",
    "scalar_space = np.linspace(1, 7, 100)\n",
    "\n",
    "y = [s.run(weird_psychotic_function, {my_scalar:x, my_vector:[1, 2, 3]})\n",
    "     for x in scalar_space]\n",
    "\n",
    "plt.plot(scalar_space, y, label='function')\n",
    "\n",
    "y_der_by_scalar = [s.run(der_by_scalar,\n",
    "                         {my_scalar:x, my_vector:[1, 2, 3]})\n",
    "                   for x in scalar_space]\n",
    "\n",
    "plt.plot(scalar_space, y_der_by_scalar, label='derivative')\n",
    "plt.grid()\n",
    "plt.legend();"
   ]
  },
  {
   "cell_type": "markdown",
   "metadata": {},
   "source": [
    "# Almost done - optimizers\n",
    "\n",
    "While you can perform gradient descent by hand with automatic grads from above, tensorflow also has some optimization methods implemented for you. Recall momentum & rmsprop?"
   ]
  },
  {
   "cell_type": "code",
   "execution_count": 40,
   "metadata": {
    "collapsed": true
   },
   "outputs": [],
   "source": [
    "y_guess = tf.Variable(np.zeros(2, dtype='float32'))\n",
    "y_true = tf.range(1, 3, dtype='float32')\n",
    "loss = tf.reduce_mean((y_guess - y_true + tf.random_normal([2]))**2) \n",
    "#loss = tf.reduce_mean((y_guess - y_true)**2) \n",
    "optimizer = tf.train.MomentumOptimizer(0.01, 0.5).minimize(\n",
    "    loss, var_list=y_guess)"
   ]
  },
  {
   "cell_type": "code",
   "execution_count": 41,
   "metadata": {},
   "outputs": [
    {
     "data": {
      "image/png": "[encoded data removed]",
      "text/plain": [
       "<Figure size 432x288 with 1 Axes>"
      ]
     },
     "metadata": {},
     "output_type": "display_data"
    }
   ],
   "source": [
    "from matplotlib import animation, rc\n",
    "import matplotlib_utils\n",
    "from IPython.display import HTML, display_html\n",
    "\n",
    "fig, ax = plt.subplots()\n",
    "y_true_value = s.run(y_true)\n",
    "level_x = np.arange(0, 2, 0.02)\n",
    "level_y = np.arange(0, 3, 0.02)\n",
    "X, Y = np.meshgrid(level_x, level_y)\n",
    "Z = (X - y_true_value[0])**2 + (Y - y_true_value[1])**2\n",
    "ax.set_xlim(-0.02, 2)\n",
    "ax.set_ylim(-0.02, 3)\n",
    "s.run(tf.global_variables_initializer())\n",
    "ax.scatter(*s.run(y_true), c='red')\n",
    "contour = ax.contour(X, Y, Z, 10)\n",
    "ax.clabel(contour, inline=1, fontsize=10)\n",
    "line, = ax.plot([], [], lw=2)\n",
    "\n",
    "def init():\n",
    "    line.set_data([], [])\n",
    "    return (line,)\n",
    "\n",
    "guesses = [s.run(y_guess)]\n",
    "\n",
    "def animate(i):\n",
    "    s.run(optimizer)\n",
    "    guesses.append(s.run(y_guess))\n",
    "    line.set_data(*zip(*guesses))\n",
    "    return (line,)\n",
    "\n",
    "anim = animation.FuncAnimation(fig, animate, init_func=init,\n",
    "                               frames=400, interval=20, blit=True)"
   ]
  },
  {
   "cell_type": "code",
   "execution_count": 42,
   "metadata": {},
   "outputs": [
    {
     "data": {
      "text/html": [
       "<img src=\"data:image/jpeg;base64,/9j/4AAQSkZJRgABAQEASABIAAD/2wBDAAIBAQEBAQIBAQECAgICAgQDAgICAgUEBAMEBgUGBgYFBgYGBwkIBgcJBwYGCAsICQoKCgoKBggLDAsKDAkKCgr/2wBDAQICAgICAgUDAwUKBwYHCgoKCgoKCgoKCgoKCgoKCgoKCgoKCgoKCgoKCgoKCgoKCgoKCgoKCgoKCgoKCgoKCgr/wAARCAEgAbADASIAAhEBAxEB/8QAHwAAAQUBAQEBAQEAAAAAAAAAAAECAwQFBgcICQoL/8QAtRAAAgEDAwIEAwUFBAQAAAF9AQIDAAQRBRIhMUEGE1FhByJxFDKBkaEII0KxwRVS0fAkM2JyggkKFhcYGRolJicoKSo0NTY3ODk6Q0RFRkdISUpTVFVWV1hZWmNkZWZnaGlqc3R1dnd4eXqDhIWGh4iJipKTlJWWl5iZmqKjpKWmp6ipqrKztLW2t7i5usLDxMXGx8jJytLT1NXW19jZ2uHi4%2BTl5ufo6erx8vP09fb3%2BPn6/8QAHwEAAwEBAQEBAQEBAQAAAAAAAAECAwQFBgcICQoL/8QAtREAAgECBAQDBAcFBAQAAQJ3AAECAxEEBSExBhJBUQdhcRMiMoEIFEKRobHBCSMzUvAVYnLRChYkNOEl8RcYGRomJygpKjU2Nzg5OkNERUZHSElKU1RVVldYWVpjZGVmZ2hpanN0dXZ3eHl6goOEhYaHiImKkpOUlZaXmJmaoqOkpaanqKmqsrO0tba3uLm6wsPExcbHyMnK0tPU1dbX2Nna4uPk5ebn6Onq8vP09fb3%2BPn6/9oADAMBAAIRAxEAPwD9/KKKKACiiigAooooAKKKKACiiigAooooAKKKKACiiigAooooAKKKKACiiigAooooAKKKKACiiigAooooAKKKKACiiigAooooAKKKKACiiigAooooAKKKKACiiigAooooAKKKKACiiigAooooAKKKKACiiigAorj/AAR%2B0J8A/iZ431n4Z/Dj44eD/EHiTw5JJH4h8P6J4ltbu%2B0t0kMTrcQRSNJAVkBQh1GGG088VZsPjb8GNV%2BKV78DdL%2BLvhi58babZLeaj4Pt9ftn1S1tiEImktA/nJGRJHh2UA7155FAHT0UUUAFFFFABRRRQAUUUUAFFFFABRRRQAUUUUAFFFFABRRRQAUUUUAFFFFABRRRQAUUUUAFFFFABRRRQAUUUUAFFFFABRRRQAUUUUAFFFFABRRRQAUUUUAFFFFABRRRQAUUUUAFFFFAHyM/iK78Sf8ABRXRvjLpWnfFnWdA8OeFNe0jVrLxH8LL/T9N8KS3FxpcStpco06CXVDdy2xaQ%2BZfIiIZkktolxJy/wANfAHxBg/ae8IfDi4%2BFHii313wp%2B0r428deJvGNx4Zuo9Ku/Dmo6XrcVj5epNGLe6kI1LSbU2qSNKn2BmZFWBCfuGigDxD9tfx3%2B078LPC2i%2BNvgH4%2B8B6bbXPi/w54f1Cx8X%2BA73VZHfVddsdL%2B0Ry22q2YjESXhk8so%2B8xgb0ByLP/CD/wDBQv8A6Og%2BDP8A4YfVv/moo/bw/wCSIaH/ANlm%2BHH/AKmuiV7NQB4z/wAIP/wUL/6Og%2BDP/hh9W/8AmoqtrOgft5%2BHNIuvEHiH9rb4IWFhZW7z3t7e/A7VIobeJAWaR3bxSFRQASSSAAM123w5%2BOul/EH4heJfhnc%2BC9c0DU/DpjkSLXYoY/7Ts3kmiW8txHK5aEywSplgrcKSoDqT4T4x8MfGTw9pPif4efG3Rr/WNM%2BIniiXw1aeMpfGbz3CpePIbCSHSo4VhtYIWZIXMbCUhGnYFVJHXSwjnPlm7PTTq0%2B2tnZXf9O2M6qUbpX3/r7zO8SfHb9uzU4PC8fwA/aT%2BAnju58VXl7FZLF8J9Us4QLSHzp180%2BJJP320qFhKgtu3Eqis47j4Ual%2B3d8XvAOn/EDw9%2B018IIYL0SJLa3fwE1ZZrWeKRoZ4JB/wAJTw8csckbDplDWP4Z%2BDXxc%2BMfxKufGPivwXqfw%2B1jS7DS7p9eZrWaG48R2ryo9xbxRSnzraS0llicsIy0dyyfeXKe5/BX4YXHwo8GSaDqfiMavqV7qt5qer6mliLZLi6uZ3mkKQhm8tAW2qu5iAoyzHJOmKp4WlTUYP3vW%2B9%2Bq02ta1n5a6TSlVlK72/r5ng3gcf8FkfEXxR1jRfF3ij4CeHvB9hcTw6Z4gn%2BHWqXN9qm1sRzJZxeICkUbgFv3k4cZGUznHoH/CD/APBQv/o6D4M/%2BGH1b/5qK9morjnJTd1FL0v%2BrZtFNLV3PGf%2BEH/4KF/9HQfBn/ww%2Brf/ADUUf8IP/wAFC/8Ao6D4M/8Ahh9W/wDmor2asP4hfE/4bfCTw7J4v%2BKnxA0Tw1pUP%2Bt1LXtUhs4F4zgySsq5/GpjGUnaKuytzzX/AIQf/goX/wBHQfBn/wAMPq3/AM1FH/CD/wDBQv8A6Og%2BDP8A4YfVv/morkJ/%2BCofwY8Z3D6Z%2By38LviJ8ZbpXMf2nwD4Tl/sxJM4AfUrwwWgX/aWR%2B/BxTR4r/4Kr/Fznw98KPhV8HtPl%2BVpfFeuXHibVYx/fEFkILVW9jO4z69a7P7PxEf4tof4mk/u1l/5KXyS66HY/wDCD/8ABQv/AKOg%2BDP/AIYfVv8A5qKyvFx/bV8AaWdb8efto/ATRLJfvXmr/BfUraIf8Dk8VAfrWJ/wwd8a/iB%2B%2B/aK/wCCiXxX13PD6b4Ge08J2LL3UrYxm4I%2BtwTg8k1reEf%2BCWf7AfhPVBr9x%2BzTofiLU%2Br6p44ln1%2B4duu4vqMkxznnjGO2KPZYGHx1XL/DH9ZNfkFoLqeMeKv%2BCjD%2BE9SOin/gqN%2BztrV8MgWXg/4Ea5rsxPoE07xLOSe2MVm/8N3ft66//wAkp8I614tR/wDj3vLT9jvWtNtpfQiXU/FtsNvvz9K%2B5vCvgrwb4E00aL4I8JaZo1mv3bTSrCO3iH/AY1A/StOj2uAj8NKT9ZW/CMf1C8Ox8Dx/Gr/g4I8QOG8I/szfCOzgc/JN4x0X7CcepS08TXjL9CM133wstf8Agu3r/iO0/wCFveKf2U/DeiPu%2B2S6P4T8R6nfRfI23bE2pQRN8%2B0HMowCTyQAfrqioniKUo2jSiv/AAJv8ZfoJyXY8Z/4Qf8A4KF/9HQfBn/ww%2Brf/NRR/wAIP/wUL/6Og%2BDP/hh9W/8Amor2aiuUk8Z/4Qf/AIKF/wDR0HwZ/wDDD6t/81FH/CD/APBQv/o6D4M/%2BGH1b/5qK9mooA8Z/wCEH/4KF/8AR0HwZ/8ADD6t/wDNRR/wg/8AwUL/AOjoPgz/AOGH1b/5qK9mooA8Z/4Qf/goX/0dB8Gf/DD6t/8ANRR/wg//AAUL7ftQfBn/AMMPq3/zUV7NRQB8SeJNT/4OIvD%2B6XStI/ZH19B9xNPsPEVvIw9xPeqoP/AjWCP2if8Agut4YPnfEr9l7waLdf8AWT%2BCfAkOsH/gMcnjC2kb/vkV980V2RxNG1pUYv8A8CX5Sf5Fcy7Hyv8As/fEr/goT8ftM1K/fxp4b8ETaZPHFNY/EH9mLV9OlmLKTuhI8WOkyjGCyMQCQO9aXxL8Rf8ABQb4e%2BLfBHgu3/aC%2BDOoXvjbxI%2Bl26/8KU1WEWsUVjc3k1yf%2BKmbeFS227Ply0ijcK%2Blq828f/sz6B47%2BMug/HVPiP4w0nW/DtvPDYW2n6ysmnlZomikLWdxHLCGKnl0VX%2BUfN1zFOWHddyatGzstZa2duz31v0BctzwX9oP44f8FDvglqV5pmh/Ff4R%2BJH0DwzJ4l8YSQ/BnUrZNJ0eNpA0%2BX8TkzSnyZikKgFhC3zDjOtY/HL9qrUPipB8Irb9rD4WHUbm7FjFfH9m3XhYHUDaC8%2Bwfav%2BEm8oXX2Y%2BaYi27aG7qQO3%2BMX7Jfjr4keK7650j4rWdpo/i3w/p%2BjePku9FL3t3b2k0ku62kSVI4TMsjwyK0bKFYsmGznz3xF%2Bzp%2B0xDFr/hjwz4XsbWy8Pa14k8VeGNci1lTJrWpXEMi6XbiMDfAY1kaOaR%2BCUUoCHITsp0cBUpJOSTt3tv3uuj6Lpq/KkoNHY%2BBvEf7W/xOutSsvhx%2B3T%2Bz3r8%2BjXP2fV4dG%2BDuoXL2UvPyTLH4rJjY4OA2M4yK6H/hB/8AgoX/ANHQfBn/AMMPq3/zUVzX7HPgy8PjCDxZ4f8AA2u%2BG/C3hv4a6P4O0q18RaJNpt1fyWwMryG3nVZFjiMhjVmADNJMVLKQx7j4l/ttfsqfBj4q2/wW%2BMHxs0fwr4gu7OO5s4vEbPZW1wjlgoS7mVbdnypygk3jIyBuGeWrhZe3dOinKyvtd%2Be19vwv5EuOtkZn/CD/APBQv/o6D4M/%2BGH1b/5qKP8AhB/%2BChf/AEdB8Gf/AAw%2Brf8AzUV6/peq6ZrmnQ6voupQXlpcxiS3urWZZI5UPRlZSQwPqKnrk2JPGf8AhB/%2BChf/AEdB8Gf/AAw%2Brf8AzUV5/wCAx/wWQ1H4par4P%2BJfij4CaT4cgt5ZtG8X6P8ADrVL6O8xKqpDLbSeIIZYJSjFzgPGNjDeflz9TUVcZqKacU7%2BunmtfzuS021qfM/x48Rf8FD/AIK/Di48a2Hx3%2BC%2Bu6i91b2OjaEfg1q9o2o31xKsNvAsg8Ry7S0jqCdhwu5jwpq/8RPEf7YHwg0e0174sfttfATw7Z3t7HZwXerfBTVIYWuHztTe/ikAZweTgcdq9A%2BK3wC1X4g/E7wv8VtL%2BJupWkvhW7N1beGb6CO50e7m%2Bz3EKzSRbVlSZRcsVkSQAbVJRiBjhf2mofiT4g8TeGl8L/CvxY3i7QbyCTw5rGlPBNoFybny7e/jvBIWKRJBJPkyxI5UZhYudo66NKhVUIX7tvZrstdLK2%2Bu700MpzqQ5nbtb%2BkbNp4S/wCCgF/axX9h%2B1V8FZ4J41khmh%2BBWqskiEZDKR4pwQQcgipP%2BEH/AOChf/R0HwZ/8MPq3/zUV5pqnxm1zw7r%2Bl/FuH4l3WheG7fxdqNlp/g%2BxtYY9Ph8M6WJ4r%2B6mhCb95eB3V8jaEjCcMQ3snwV%2BPHi/wCIviqfwd8QPhZ/wit%2B/huy17TrRtYF1MbO5aRBHcJ5SfZ7hHjKtGDIvIw5IYLNXBVaUOfdfl/na6vbQcK0ZOxxepeMf2zfhL8afhV4a%2BKPxb%2BGHiXw/wCPPGt3oOp2mgfC7UdIvLcR%2BH9X1OOaK4m1y7QHzdOjRlaE5WRsFSAa%2Bga8Z/ag/wCS3/s4/wDZZr7/ANQrxRXs1cZsFFFFABRRRQAUUUUAFFFFABRRRQB4z%2B3h/wAkQ0P/ALLN8OP/AFNdErp/AP7Snw4%2BKHxb8RfCDwHBrGo3PhQNHr2tR6PKul214rqrWIumASS5XduZE3bQDkgjFcx%2B3h/yRDQ/%2ByzfDj/1NdEr2VESMERoFBJJAGOTyTVxdNRfMrvpra3%2BfpoS1JtWZ5d8Xfg98UPF/wAavB3xM%2BGPjHSPDn9h2d7aa7qN1YPeXN/ZTmJjZpDuSNRviWQTOzbHQYjYM2ertPg78Pk8T2Hj3WfD1tq/iPTLVrey8RarbRy3kKMzFgj7QI87iDsC5GAeAK6eirdeq4qN7WVtNNPN7vf/AIAlTim33Cq2sazpHh7SrnXtf1W2sbGzgaa8vbydYooI1GWd3YgKoAJJJwAKp%2BNx41bwjqK/DiXS0102rDSn1qKR7RZsfKZVjZXZB3CspPTI614kdb8VftPfskeN/hf8Rb7SdK8b6O934e8UYjMFgNSgKPDKFkZmS2uY2tplBZiI7nbuLLmnSo%2B0XM3pdJ91frbt%2Bpolc6D4iftd6PZ2vhx/2f8Aw5afEyXxLaaje2J0HxFAlvJbWUMcsyxzgOklw3nRLHDld%2B5mLKqMa8bm/aZ8b3/inxp8ePDnxb1SSz8OXelahp/ga7W3jsL/AMLXHkRSuiGISpepdR30bSF2Cukak7HVRoeEPg38SvjD8cdf%2BIOk%2BDdd%2BGd/aw6fqct/q2mRvb/8JPE7W9y0KLIFvLW5sooElZSgIWMq%2B8uE9d%2BH/wCx/wDCrR/Buh6P8V/Cvh/xprOiave6rbaxqPh2MJb3d1eS3cn2aKRpTbwrLL%2B7i3v5YSPDEopHpXwOEjZq70vs3rr5x7K6afU09yJ6H458N3fjTwVqvhPT/Fep6DPqenTW0Ot6M6Jd2DOhUTwmRHQSITuXcrDIGQeleMfD3/gmd%2ByJ4M8RR%2BPfGHgO6%2BInitOW8W/FLVZfEF%2BW7Mpuy0cJHbyY4wOwr32ivNp4nEUYONOTSe9tL/Na/K9vIzUpJaDLe3gtIEtbWBI4o0CxxxqFVVAwAAOgFPoorAQUUVz/AMSPiv8AC34N%2BG5PGXxd%2BJOgeFdIiz5uqeI9YgsbdOM8yTMqj86ajKTsldjScnZLU6CivlW8/wCCw37KPiW8l0j9mjw38RvjffQuUli%2BEPgC81O1Rhx81/KsNiBnjPn4HftTB%2B0R/wAFW/iv%2B7%2BE3/BPzwd8PbWT5oNX%2BMfxSSWXZ2LWOjQ3JVsc7WnU9jjrXV9RxK%2BNKP8Aiaj%2BDd/wOn6liF8aUf8AE0vwbv8AgfVtFfKY/Z0/4KwfEX/S/iR/wUZ8HeBkk4l0v4VfByGTYO4W61i5ujn38ketL/w6yHiT958X/wDgoR%2B0x4saTm5th8UTo1rJ6jydIgtcL/skn60fV8PH4qy%2BSk/0ig9hQj8VVfJSf6JH1U7pGpd2CqBkknAArkfEv7QXwF8GMyeMPjd4Q0kp98al4ltYCv13yDFeCp/wRR/4JqXbCbxd%2Bz5deKZs5kn8Z%2BONa1lpG9SLy8kX8gBXXeGv%2BCV//BNPwkqjRP2BvhAGT7st18PdPuJB/wADliZv1o5cAvtSf/bsV%2BcmHLgl9qT%2BSX5yZtar/wAFDv2AdCYprf7cvwesyv3hdfEzSoyP%2B%2BrgVjzf8FS/%2BCaEDbX/AOCgnwXJ/wBj4m6W38p67DSv2Nf2QdCULon7Knw2swv3Ra%2BBtPjx/wB8witiH9nf9n%2B3XZB8DPByD0TwzaD%2BUdF8v7T/APJP8g/2HtP/AMl/yPOrb/gqJ/wTUu2CQ/8ABQT4K5PQP8UNKX/0K4Fb2jft6fsM%2BImCeH/2z/hPfFvuiz%2BIumS5/wC%2BZzXSXX7N/wCzversvfgJ4LmB6iXwtaMP1jrB1j9hz9inxCpTX/2PvhbfBvvC8%2BH%2Bmy5/76hNH/Cf/f8A/JA/2H%2B//wCSnZ%2BF/it8LvG5VfBfxJ0DVy33RpesQXGfp5bGt%2BvnTxR/wSJ/4Je%2BLww1b9gf4VRbup0vwba2J/A2yIRWAf8Agi/%2BwRpJ8/4a%2BD/G3ga5H%2BruvA3xZ8Q6YY/91Ir7yx/3xRyYB7TkvWKf5SDlwT2nJesU/wApH1VRXyp/w7X%2BLPg7/Svgj/wVH/aI0K4X/VQ%2BJ9f07xPar6ZTU7KWRvxlpP8AhVv/AAWO%2BGf/ACJv7WPwX%2BKEHXyPiD8N7zQbkj0%2B0aXdSxg/7X2fH%2BzT%2BrUZfBWj81KP5pr8Q%2Br0ZfDVXzUo/mmvxPqyivlE/toft9/Cr/k4f/gl1r%2BqWMPyz678FfHen%2BIVc/3lsrv7FdAewVzx3OBWt4H/AOCvP7BfiXxDD4G8efF24%2BGfiWY7T4Z%2BL2gXnhe7V%2BmwHUY4opGyQP3bvycUngcVa8Y8y/utS/Jt/gDweJteMeZf3Wpfk2/wPpiiq2kaxpHiDTINb0HVba%2BsrmMSW13ZzrLFKh6MrqSGHuDVmuTY5dgrN8WeDfCHj7Qp/C3jrwrputaZcri507VrGO5glHo0cgKt%2BIrSoppuLugPmvU/%2BCXvwN8K6lceKP2VPGnjD4JazPIZpJPhxrjQ6bPJ1HnaXcCWykQH%2BERL9RVdvGn/AAUv/Zx/5H34deGfj34bg%2B/rHghl0DxIkY5Z30%2B5drS5bHRYZoiey9j9OUV2rH1p6Vkqi/vav/wJWl%2BLL5299Txv4E/t6/s0fH/xG/w80DxlPoHjSAf6b8P/ABrp8mka5btjJH2S5CtKB3eLzE/2q9krhPjx%2BzF8AP2nfDieFvjz8KNI8SW0J3Wct9b4ubJ/%2BelvcIVlt3/243VvevFn%2BCH7cf7JP%2Bn/ALMnxUf4v%2BDoOW%2BGvxR1TZq9vGP4NP1vblj0Cx3iuoAx5o60eywmI/hS5JdpbfKf/wAkl6haMttD6korxz9nj9uH4M/tA%2BIbn4ZFNU8HfEHTYt%2BsfDfxrZfYNYtVHWRI2JW6h4yJoGkjIIORnFex1y1aNWhPkqKz/r715pteZLTTszzbx9%2Byl8GvGHhrxfpeieCtJ0DU/Gdvt1fXdL0mFbiaUOJFlkyuJv3iqzK2RJjDZzWl8I/g/efD/U9Z8aeL/GD%2BIvFPiJoBrGsmyFtGYYA4gt4YAzCKFPMlYKWYlpXJYk129FU8RWdNwcrp/wDA6720Wm2i7Gfs4KV0jxj9p1i/xt/ZyJQr/wAXnvxg%2B3grxRzXs9eM/tQf8lv/AGcf%2ByzX3/qFeKK9mrEsKKKKACiiigAooooAKKKKAPB/Cnxm/aC0P9s%2B3/Z0%2BIXiDwR4k0vWfCOq%2BIli8K%2BHLyxvfCttBe20Fit9LNe3Ed0LoTXCo6x2pL2MxRJFWQxYXws/an%2BLuu/tpeKvgb8WPE2ieGdFt/E9zpvgDQL/AOE%2Bt2lz4ntotLt7s3Frr092NPu5FdrstbwQNII7VyQAjOOi%2BE37Et58HPiF43%2BI3hz9rL4m3d14%2B1yfVdbg1a28OzhZ3ZBEsc39kC48q3hRbeGJ5XSOLgKW%2Bet%2B%2B/Zag8RfHLRfjX49%2BN/jXxFD4W1q51fwj4O1I6ZHpOi301ncWTTxfZrKK6mK213dRoLm4mVROxA3KjKAcZ/wUL%2BLnwo8NeD/AAZ8KPEfxO8Paf4p8QfGH4ey6D4avdagi1DUkj8Z6M0jW9uziSYKqsWKKQApJxg19D14z%2B3h/wAkQ0P/ALLN8OP/AFNdEr2agArifj7%2B0P8ACH9mP4ezfEz4z%2BL4dK01JVgtY9jS3N/cvxHbW0KAvcTOeFjQFjyegJGP%2B1P%2B1J4M/Za8D2uuavpF7r3iLXb5dN8F%2BC9GAfUPEOouPktoF7AfeeVvkjQFm7A8J%2Bzt%2ByL4z1P4gwfta/tp6rZeJfii8TDQdItiX0fwLbP1tNORuGnIwJbxv3khGFKpw3ZRw8FT9tXdodEt5PsuyXWT0Wyu9FSirXex6J%2BzT8UPjF8YfBN149%2BLfwNm%2BH0d7qLN4a0LU9TWfUjp2xPLlvo0XZazs28mAO5RSqsQwIpNG/Za%2BFGmfGnXfj9qVvqGreJNeECSyarqDSWtrFCqrFHDartgUrtyJWRpuSDIRxXo1FYutJTk6fuqWllfbtrr0%2Bf4CvroFFFFYiCiivA/2oP%2BCgPw9%2BAvjS2%2BAvw18Gat8Ufi/qtsJtI%2BF/g0o12kRwBdX87nydMtMlczzkZB%2BRXIIrSlSqVp8sFd/wBavol5uyNKdKpWlywV3/W/ZebPepZYoImmmkVERSzuxwFA6knsK%2BYfH/8AwVU%2BClx4vvfhL%2ByN4G8S/H7xtZSeTd6T8MLZJ9N02Y9FvtXlZLG0Gcggys6kcpWBafsFfH/9sCRfFP8AwU6%2BM327RJmElt8CPhtfz2Hhm2Xqseo3SlLrWZBhSwdo7fcDiIqa%2Bpfh78OPh98JfCFl8P8A4W%2BB9I8OaFp0Xl2Gj6Hp0dpa26%2BiRRKqr%2BArp5cJQ%2BJ88uy0j9%2B7%2BSS8zflwtD4nzvstI/fu/kkvM%2BZV%2BEP/AAVT/ab/ANI%2BM/7Q/hn4BeGrj73hT4RWS6zr7RN1jm1nUI/IhkH962tT7PXRfDb/AIJL/sNeBfEkfxB8Y/Cmb4l%2BLl5k8ZfF3V5/E%2Bou%2Bc71a/aSOE%2BnkpGB2FfSVFTLG4i3LB8i7R0%2B9rV/OQnjK9rQfKu0dPxWr%2BbIrKystNs4tP060it7eFAkMEEYRI1AwFVRwAB2FS0UVyHKFFFFABRRRQAUUUUAFFFFABRRRQAUUUUAFZHjj4feAvid4dm8IfErwRpHiHSbgYuNL1zTYru3l/3o5VZW/EVr0U03F3Q02ndHytrP/BIb9mnwzqc/ir9krxb44%2BAeuTSGV7j4SeJpLLT55Oo87SphLYSpnqvkLkdxwRTfxJ/wVp/ZbG7xX4S8G/tLeFoP9ZqHhgJ4V8WRx9S7Wkzvp94wH8MctuzHovIFfWtFdaxtaWlW01/e1f8A4FpL8WdKxlWWlW01/e1f36S/FnhP7Ov/AAUc/Zb/AGj/ABa/wq0nxTqHhH4g26Zvvhl8RNKk0TxBb8EnFpcYNwuBnzIGljx/FXu1edftHfslfs4ftb%2BE08F/tFfCDR/FFpA/mWE97AUu9PlyCJbW5jKzWsgIHzxOje9eAzfDn/goJ%2BwKP7T%2BCvizVP2jPhZajNx4D8YahGnjTRoByf7P1N9seqqoyRb3e2YhVVZmJp%2Byw1f%2BE%2BWXaT0%2BUtPukl6j9nh6/wDDfK%2B0np8pf/JJep9h0V5l%2By5%2B1/8AAf8AbC8GXHi/4KeLXuJtMufsniPw9qlo9nq2g3gzutL6zlAltpVIYYYYbaSpZea9NrlnTnSm4zVmujOacJ05OMlZoKKKKgk85/aM/ZR%2BB37U/h620T4u%2BEBPd6bL5%2Bg%2BIdOuGtNV0W4GCs9ndxESwOCAflO07QGDDivFR8bf2kv2AZ00j9re/vPiP8JUcR2fxk07T/8Aia%2BH484VdctIRiWIDj7dAuOMyxqW3V9YUy4t7e7t3tbqBJYpUKSRyKGV1IwQQeCCO1ddHFuEPZVVzQ7Pp5xe8X%2BD6p7lKVlZ7FXw34l8O%2BMdAsvFfhLXbPVNL1G2S40/UdPuVmguYXGVkjdCVdSCCCCQau18keMfhJ8RP%2BCcmvXvxq/ZX8N32v8Awgu7l7zx98HLBfMl0MMd02qaEh%2B7jl5bEYRxuMe1sAfTXwx%2BJvgH4zeANJ%2BKfwu8U2mt%2BH9cskutK1Syk3RzxN3HcEHIKkBlYFSAQRSxGHVOKqU3zQez6p9pLo/wa1TtsSjbVbHm37UH/Jb/ANnH/ss19/6hXiivZq8Z/ag/5Lf%2Bzj/2Wa%2B/9QrxRXs1cpIUUUUAFFFFABRRRQAUUUUAFFFFAHjP7eH/ACRDQ/8Ass3w4/8AU10SvQvjD8W/AfwH%2BF2vfGP4n64mnaB4c02W%2B1S7cZKxoM7VHVnY4VVHLMyqOSK89/bw/wCSIaH/ANlm%2BHH/AKmuiVwf7Q9sP2rv22fB37Jcn7/wZ8ObG38ffEqAcxX155zR6Lp0vYr5sU948bAhhbRZ6104WjGtV9/SKTcvRb283ol5vyKirvUvfscfBbx58RfGlx%2B3p%2B1HoL23jrxNZGHwV4Vu/mXwN4fc7orNFPAvJl2yXMuAxZhENqoQfpSiipxFeWIqcz0WyS2SWyXkvx1b1bFJuTCiiisBBRRXzj/wUK/aA%2BKHhDTPCf7Kv7MeoxW3xb%2BMeozaX4Y1KSLzE8N6dCgfUtdlToy2sLDYpPzzywrhskVrRpSr1FCPX7kt235JamlKlKtUUF/wy6t%2BSWpzv7QH7UHxt/aK%2BMmq/sR/8E/tXtrDVtEZYfix8Y7m1FzYeB1cZ%2BxWsZ%2BS81dkORET5cAIaXk7R69%2Byn%2Bx38EP2OvBVx4U%2BEuiXMt/q1z9s8U%2BLdcujeaz4jvjkvd392/z3ErEsecKu4hFVeK0v2X/ANmj4W/sjfBXR/gZ8I9Mli0zS0Z7m9vJfNu9UvJDvuL66lPM1xNIWd3PUnAwAAPQK2rV48vsqOkPxk%2B7/RbLzd2bVq8eX2VLSH4y83%2Bi2Xm7sKKKK5DlCiiigAooooAKKKKACiiigAooooAKKKKACiiigAooooAKKKKACiiigAooooA%2BeP2sP2C9O%2BL/AIyg/aV/Z38bP8Mvjhott5ej%2BPtLtw0WqwrgjTtXthhdQsm2gbX/AHkWA0bKRg2/2NP20L/476rrnwE%2BPPgZPAfxq8DxRnxn4Ja5MkFzbsdsWraZK2DdafMR8rj5omPlyAMAW98r55/b6/ZR8W/GXQNH%2BPv7Od7b6N8bvhhJJqXw61uT5Y78Ef6Rot4cjzLK8QGJwSNjlJFIKHPbSqxrxVGs/wDDL%2BXyf93uvs7rqn2Uqsa0VSqv0l/L5P8Au%2BXTddU/oaivNv2RP2mPCP7X37PHhv4/eD9PuNPTWrVl1PRb0YudI1CF2hu7GcEAiWCeOSJsgZ2ZHBFek1yThOnNwkrNaM5ZwlTm4yVmtAoooqSQr5H8V2H/AA7W%2BPq/E3w8v2f4EfE7X44PGWlrxb%2BCfENy4SLVIh0isrqQrHOvCxyskgIDMtfXFYPxQ%2BGngz4yfDnXPhR8RdFj1HQvEWlzafqtlKOJYJUKMAf4WwchhyCARyBXVha6ozcZq8JaSXl3Xmt0%2B%2BmzZUXZ67Hm/wC1B/yW79nH/ss19/6hXiivZq%2BX5/hp4%2B%2BDdr%2ByX8KfiZ8Rh4t1fw98VL2wk8RG0ML3sMXgzxUsDSKWYmUQiNXfPzurNgbsD6grCpGMJuMXdJ79/P5iejCiiioEFFFFABRRRQAUUUUAch4F/aD%2BAfxQ8Zaz8Ovhp8b/AAh4i8Q%2BHXZPEGhaF4ltbu80xlcxstxBFIzwkOCpDgYYEdasWvxt%2BDN98U7n4F2Xxc8MTeN7OwF7eeDotft21WC1IUid7QP5yxkOnzldvzLzyK%2Ba/hr8V9M%2BLH7b%2BrfFPxZ8JPiL4S0n4WaTrXhfwLptx8GvEMP9tfaryzOo6s10LD7O8EktpAlrBFIzPGs1y4O%2BMQ8z4O%2BH/wAQYv2pPD3w3l%2BFHiiHXtB/ad8SePda8Zy%2BGrpNKm8O3mhanb20iamY/s08hW9sNP8AsqyGZPszMYxHCr0Ae9/t4f8AJEND/wCyzfDj/wBTXRK5D/gndF/wm3iH45/tFX48278ZfGnVbC0uv72maOE0q1Qf7INtO495TV7/AIKF6b8V5/B/gzUfDnjTw9a%2BFofjD8PRr2jXvhie41C8c%2BM9G8tre8W9jjtgrbSwe2mLAEApkEV/%2BCWM0cX7L%2Bo%2BHXtkhvNF%2BKXjKw1KJCx23CeIL5mzuJO4h1Y89%2BABgV20dMDWa6uC%2BV5P80i18D%2BR9H0UUVxEBRRRQAV8l/si2bfHX/gol%2B0P%2B1NrLC4tvBF9p/wp8EbxzZw2ltDqOrFf%2But7exKW6kWijPGB9aV8qf8ABLdlsNQ/aS8KXfy3%2BnftS%2BKpbuNuG2XSWd5A5HoYZ48H/Z9q7MP7uGrSW9or5OWv5JHVQ93D1ZLeyXyctfySPquiiiuM5QooooAKKKKACiiigAooooAKKK5b42ap8W9E%2BFWt6t8CPDGl614ut7PfoelazdGG2uZQwyjuCuPl3YyygtgFlBLC6cHVqKCaV2lq7LXu%2Bi7voRVqKlTlNpuybsld6dl1fZdTqaK/P7xz/wAFsPGnwC8Er4S/aI/Y/wDEmk/FC3neG50yXFlo10qSFWnguHaWR0wMjYkiN1EpBBr4z/4KN/8ABSz4p/8ABQ3wH4b%2BFPhzwZc%2BDNNsLue41/T9P1x72PW5CIxCWQQxFVi2ykIS4Yyg8FBn28VwlxXDBTr4XCe1a2UZ01zarVNyty63v2T06HHw7xLwHmXENDAZvmawVGb9%2BrOlVn7NJN6whDmcm1yqP8zV2lqfubRX4j/sm/8ABTL9qX9mP4HaR%2Bz9pfxX8GG3i1i4tor/AMb6Rqt1feHrfbHjd5Ksn2dW37EVZpVO8FAoQV9Zfs1%2BHf8Agqf%2B2r4S0n9pnVP2r7f4c20DeX4Y0iy8MiS11m2LOJLye3ZwpB4EfmK24LuUR8O/T/qlmmFwUcRmUoYe61Tk5NSf2fci769VdJa7b%2BdjuK8gqZ3WwORynjYQk%2BWpGn7JTgnpPlqT5oXTvyys7%2B7vt%2Bg1FfJlv%2By9/wAFKrXWtH8Ial%2B27pGs%2BFLLxJZapf63Lo0tjrc8SMGnssW5MTQN82AzEncAcAAV9Z14uMwtHC8vs60al7/Dzadr8yWr7dLanpYLF1sXze0oSp2t8XLr3tyuV0u/W%2BgUUUVxHcFFFFABRRRQAUUUUAFFFFAHyb%2BzBar8AP8Agpl8df2a9PHlaB8QNC0r4reHrKP/AFdteXEkum6xj3kuLW1nI/vXDH%2BKvrKvlSdl1T/gt7afYTu/sT9le5XUyv8ACb3xJbm3De5FjckD619V12YzWcJPdwi362a/JI6sXrKEnu4xb%2B5r8kgooorjOUKKKKAPGf2oP%2BS3/s4/9lmvv/UK8UV7NXjP7UH/ACW/9nH/ALLNff8AqFeKK9moAKKKKACiiigAooooAKKKKACiiigDxn9vD/kiGh/9lm%2BHH/qa6JXGfsnTD4N/tn/Hb9mTUf3UOv6xbfEvwmH63NrqMSW2obfaO/tWJH/T0p/irs/28P8AkiGh/wDZZvhx/wCprolcv%2B374E8aeEj4U/be%2BDegz6l4r%2BENzPcarotmv73X/DVwqrqdgo/jlCIlzCDnEtuAAS9duCanKVCTtzqy/wASd4/jp/28XDXTufR1FYnw2%2BI3gv4veANH%2BKPw58QQaroWv6dFfaVqFs2UngkUMreoODgg8ggggEEVt1xyjKMnFqzRGwUUUUgCvjySOP8AY1/4KxX/AIo1q9uI/BX7VOjWNpHdXNwxttP8aaNbNFFbgHCQ/bdOA2/xSS2O3nKgfYdebftZ/sw%2BAv2v/gZq/wAEPH1zdWSXhiutG13TZPLvdD1KBxLaahayDmOeGVVdSDzgqcqzA9OFqwpzcZ/DJWfp3%2BTSf3rqdGGqRhNxn8MlZ/5/JpP711PSaK%2Baf2Jv2ufHev8Aim%2B/Yv8A2xYLXRvjl4NshJdNEnlWXjbS1OyPXtMzgPHJgedCvzW8u5GVRtr6WrOtRnQqcsv%2BA10a7p/1rdLOrSnRnyy/4DXRryf9dUFFFFZGYUUUUAFFFFABRXlX7aP7L9p%2B2B%2Bz/q3wPuvG994fa%2Blhng1GzUuolibcqyx7l86InqmRyFIIKivyg1H4beK/2a/2rrf9j/wl/wAFF/E/hTT7BXTxT4nWa40bT9KkEBnWOONb8faN2UXqnzPwGAJr6bJMgw%2BdUJuOI5Kkbtx5JS91W968futa99Nbny2fcRYnIsRBSw3PTnZKXtIR953920ret27W1drH7aUV%2Bcf/AAS9/au8DfC/4aT/ABS/as/4KMvrV74lt2VPBXirV5ryfRHhuZkEnmSTSvmWMI%2B0InDjO7ANdt%2B2N%2B3r8Jv2mP2b/G/wm/Z/8D/GDxQNQ0x47Pxj4C8GXBsIbqF1ljSS4fa4haSNY5CqHMbuB1BpVeF8fSzN4VJygpJOpyyjFa2b9/lvbybvbS4UeLMuq5UsW2ozcXJU%2BeMpOybS9zntfTdK19bH27rGkaPr2my6Tr%2Bl217ZzLie2vIFkjkX0ZWBBH1r8Q/FfxI%2BCH7GXxn0nV/2W/ippfjS20nxlHrOn%2BKdItLmx1W1tSVS60q63Rpb3ltJGi7SpABLkbQ7KeCt/wBvv9uLwx4ak8IQftW%2BM/Kn8xLmC41md7u1OShTz5R5kZwMgI/y%2BxzXqn/BLzxX%2BzP8I7zWfiX8SItR8b%2BNNQt59G8OfCzQ/h9/a15MsqIftscso8vO0TxtEpB2Mclt20foOV8M4nhnCYirXn7aMrJU4JpS3V5cy92yb1vy2vzNrlt%2Bc5txTheKcZh6OHh7GUbt1JtNx2doqL967S0tzXtypPmv7P8A8FNP%2BCtP7Pfx5%2BEd7%2Bz18E9I1HXbPVryzbWPEV1p4tovsscqzPHbLcKZFl3RxrvaMBfmIzgGvRfA3/Be79lPSLLRfCL/AAc8a6XYWyQWbSslrKlnbqFQP8su5wqgEgLkgcZPFcB8Pf8AgkKvxl/4J82nik/CWDw78btav5Lw3XiG%2Bu7FIIDftiM2kYENvutgCqeTxuH3c4Wl%2By9/wRp%2BJHxB%2BL13qP7WHwmj%2BHnhfRNMiGj23grxatx/ad8sy/vSLiW9dY2jVzJloTlotij59vHKjwGsulh6kpWoSn9v3pS0TlFL407JRtokndJb9sa/iC8yhiKcY3rxhZ%2Bz92MfeajJv4Grtyvq3JWbe36f%2BFPFHh/xx4X03xr4T1SO%2B0rWLCG90y9hzsuLeVBJHIuQDhlYEZ9av02KKKCJYYY1REUKiKMBQOgA7CnV%2BTS5eZ8ux%2Bwx5uVc24UUUUhhRRRQAUUUUAFFFFABUGq6ppmh6Zc63rWoQWlnZwPPd3dzKEjhiRSzO7HhVABJJ4AFT18V/H7xvrH/AAU%2B%2BK2p/sPfAfWLmP4PeG9SFv8AtAfETTpikWqMhDN4U0%2BZf9ZJJwLyVDiGImLdvkK1vh6DrS1dorVvsv8AN7JdX87b0KLrS1dorVvsv8%2BiXV/O3Q/8EyodS%2BO3if4qf8FGtdsZoLf4ya/b2vw9guoijx%2BENKSS206baw3Rm6ke7vCvdbiM9MV9Z1V0LQtF8L6JZ%2BGvDmlW9hp2nWkdrYWNpCI4reGNQiRoq8KqqAABwAAKtUsRV9vWc0rLZLslol9y%2B%2B4q9X21VySsui7JaJfcvzCiiisTEKKK8i/bT/aTuf2a/g62qeD9HXWfHPiW%2Bj0L4c%2BGlOX1XWrjKwIR2ij5mlYkBYonJI4rSjSnXqqnBav%2Bvu6t9EmxpNuyK37UH/Jb/wBnH/ss19/6hXiivZq%2BXp/hR4k%2BB9r%2ByX8L/GfxB1LxXrel/FS9Gt%2BItWvJJ5r%2B9k8GeKpZ5A0hLLH5ruETokYRBgKK%2BoaVSMYzai7pPfv5/MHowoooqBBRRRQAUUUUAFFFFABRXi/7HPxd%2BOHxKuvil4O%2BP174Uu9Z%2BH/xMbw9bX3g/Rbmwtbi1bRtK1JC0VzdXLmRW1B4y4cK4jVgiZIrkv2KP2p/i78Z/iF4j8EfHvxNomj67a3OsS6T8Pz8J9b8P6gmm2urSWkN/HfajdyQ6vA0P2VnltIVjV7qPLLvVSAdf%2B3h/wAkQ0P/ALLN8OP/AFNdEr2avnj/AIKF/Fz4UeGvB/gz4UeI/id4e0/xT4g%2BMPw9l0Hw1e61BFqGpJH4z0ZpGt7dnEkwVVYsUUgBSTjBr6HoA%2BQr%2BS8/4Jc/FO814W0r/s5eN9Za41AQxll%2BG2s3EnzzbR9zSrmRstj5beZycKj8/XFle2epWcOo6ddxXFvcRLJBPBIHSRGGVZWHBBBBBHBBqPWtF0fxJo914e8Q6VbX9hfWz297ZXkCyw3ETqVeN0YEMrKSCCMEHFfJzeF/jH/wTHu5L/4ZaBrPj/8AZ8aVpLvwnZh7vW/h8pJLSWKkl77TVyS1vkywD5k3qGWvR93MFq7Vfwn8%2Bk/XSXdS%2BK/j9fz/AOCfXVFc78Kfi38NPjl4C0/4ofCHxtp3iHw/qsPmWOqaZcCSOQdwe6sDwyMAykEMAQRXRVwSjKEnGSs0RsFFFFSB5J%2B1z%2Bxt8Lv2wPCOn6b4uu9R0HxN4bvDqHgbx94buPs%2BseGb/GBcWswHAIAEkTZjlX5XU4BHjngf9un4sfskeJbH4E/8FSLCx0gXNwtn4V%2BPmjWpi8LeJSTiNL7qNFvmH3opT5DsHMUmMLX19Wd4t8I%2BFPH3hm%2B8F%2BOvDOn6zo%2Bp2zW%2BpaVqtmlxbXUTDDRyRyAq6nuCCDXVSxCUPZVVzR6d1/hf5p6Pyep0066UPZ1VzR/Fej/NPR%2BT1LtrdWt9ax3tlcxzQzRh4ZonDK6kZDAjggjkEVJXyFJ%2BwV%2B0L%2ByFcyeIP%2BCZHxtt9N8PiQyz/Av4mzXF94ZbJyy6ddKWu9HJyxCIZYNzD90AK0/CX/BVf4a%2BDfENp8Nf27/hb4g/Z78V3Uogt38c7JvDuoy/9OWuwZs5R04laGTnlBVPBua5qD512XxL1jv81zIp4VzV6D512%2B0vWO/zV0fVVFV9J1fSdf0y31vQtTt72yuolltbu0nWSKZCMhkdSQykcgg4NWK49jk2CiivKv2t/wBpy2/Zi8Badq2m%2BC7rxP4l8S65DonhDwzZTLG%2Bo6hMGMas7cRxjaSz4OOPWtsPh62Krxo0leUtF/T0SSTbb0STZhicRRwlCVaq7Rjq3/wFq220klq20luWv2n/ANrP4K/sk%2BBX8Z/FzxXBayzW1w%2Bi6Or5utVmiQMYYUHUklF3HCqXXcRmvl34m%2BGP%2BCj37V3hpJ9Y/Yy%2BBVrofifTpbk2/jJ57rUbWDy1MEE8sbo6XDA/K8aqUYDcYStevfsvfsWeI9H8UWv7S/7W/jG88Y/FS5tph5N1e%2BdpXhxJpN32ewh2hY9q7VL85O7bwST9H17ccbgsmmo4WMatRbzlzct%2B0EpRdk9eZv3uiS38KeBx2dwcsXKVKm9qceXmt3qNxmrtackV7vVuV7fAP/BNL9k/43fDj4ua3o/xR/Zls/Dvw9GkNNFp/iyDTdSubbV2lQmOzuo1M0lsEL48wsBgDczZY/fVnZ2mn2sdjYWscEESBIoYUCoijoABwB7VJRXDmuaV83xbr1Uk7JWV7addW9X1fp8/QyjKaGTYRYek3JJt3dr69NEtF0XTX5VtV0bR9csZdL1vSra8tpwBNb3UCyRyY6blYEHoOvpSWWhaJpq26ado1pbi0g8m1EFuqCGLj5EwPlXgcDjgVaorzeaVrX0PS5Y3vbUKKKKRQUUUUAFFFFABRRRQAUUVzfxW%2BMfwl%2BBPg64%2BIXxp%2BJeheE9CtR%2B/1bxDqsVnbqcZ275WUFjjhRyewNOMZSdoq7Goyk7JXZ0lc78Vvi58MPgX4C1H4pfGTx9pPhnw7pUJl1DWdavkt7eFewLOQCxPAUZLEgAEkCvmeb/gol8av2nydD/4JofsyX/i2xmOxfi98SobjQfCMA/56wCRBe6qAQRi3iVDwfNxzWx8MP8AgmnpOvePdO%2BPf7d/xYvfjj4/02b7Ro0euWKWvhrw3L2OmaOhMMbrwPtExlnO0NvU12fVY0dcRLl/urWX3bR/7ef/AG6dX1aNLWu%2BXyWsvu2X/bz%2BRxt940/ae/4KoKfD/wAIk8SfBz9nq641Lx5eW72Pirx5bHrFpcDgPpdjIvW8lAnkVl8tEBZq%2Brvg58Gvhd%2Bz58M9H%2BDnwX8EWHhzwzoNoLbStI02LZFCgJJPcu7MSzOxLOzMzEsST01FZVsQ6kVCK5YLZfq31fm/RJIzq13UioRXLFdP1b6vz%2B5JBRRRXOYBRRXmX7TH7Wnwk/ZY8P2d547vLvUNc1qY23hXwZoFsbvWNfuu0FpbL8znONznCJkFmUVdOlUrTUIK7fQaTbsjofjh8cPhh%2Bzl8MNV%2BMHxg8Uw6RoWkQ77m5lyzyMThIYkHzSyuxCpGoLMxAA5rxX9ln4QfE740/Fk/t5ftT%2BGJtH1yawksvhZ4AvSGbwbo8uN8sw6DUroBTMw5jQLCDwwpvwd/Zk%2BLXx1%2BJml/tWft3W1ouraRMbn4efCixuhcaX4OJHy3M7j5b7U9pwZ8eXESREOjD6YrtnOnhKbpU3eb0lJbJfyxfX%2B9LrstLuVNqKstzxn9qD/AJLf%2Bzj/ANlmvv8A1CvFFezV4z%2B1B/yW/wDZx/7LNff%2BoV4or2avPICiiigAooooAKKKKACiiigDxf4E/seax8CfGni/xraftZfErxHJ448Vw%2BINesfENp4dED3aWtvZkJ9k0iB0je3tLaJgHziEMpV2dm1Ph/8AstQeE/jQvx58bfG/xr4616y0O%2B0bw7/wlR0yODRLG8uLa4uobePT7K13mR7KzBkuDNIFt1Acbn3%2BqUUAeM/t4f8AJEND/wCyzfDj/wBTXRK9mrxn9vD/AJIhof8A2Wb4cf8Aqa6JWp4Z/bA%2BDWtfGnUf2efEV7f%2BFvGFpdyR6bpHiuyNkdchU4Fzp8jHy7uJucBGLjB3IuK0hSqVU3BXtq7dF3/r52JlOMbXdrnqVFFFZlHzj8UP2HPEPg7x7qH7QP7Cfj%2B1%2BHHjbUZvtHiHw9dWrTeGPFknc39mhBhmbp9rt9soyxYSZqX4X/8ABQTw5b%2BM7T4Iftf%2BA7r4O/EG6fyrCy8QXSyaNrzjjdpmpgCG4zlf3LmOYFgpjJGa%2BiawPiZ8K/ht8Z/Bt38PPi14E0rxHod%2Bm270rWbFLiCT0O1wQGHUMMEHkEGu6OLhVioYlc1tpL4l89pLyl8pIvmT0kb9FfLq/sgftNfsu/6Z%2Bwj8eheeHIeV%2BEfxYuZ9Q0yJB/yzsNRBa8sAAMKjmePJ5UAVe0L/AIKU%2BB/A%2BrW/gr9tb4WeIPgdrs8ohhvPFirceHryQ9rbWbfNswxziYwuM8qKHgZVFfDy9ouy0kvWL1/8B5kHJf4dT6UoqromuaJ4m0m31/w3rFrqFhdxCS1vbG4WWGZD0ZHUlWB9QcVarhaadmQFZ/inwp4W8c%2BH7vwl428NafrGlX8JivtM1WzS4t7iM9UkjkBV19iCK0KKabTugTad0fN3gj/gl1%2Bz38E/inpvxQ/Zc8U%2BNfhRDbaul9rHgzwP4nki8N62A%2BXhuNLnEttGrDK5t1hcZyGBrrP25fFuu%2BHvhBpfhrQfFN7oLeMPG2i%2BHLvXtPlMU2nW13dok0qSD/VMYwyB%2BNpkBBBxXstZvi7wd4Q%2BIHhu78G%2BPfCum63pF/H5d9pWr2MdzbXKZB2yRSAq4yAcEHpXR9ZqTrRnVblbvv8Af1%2Bd9ux0fWJzqxnVfNb7/wDg/O58y/Bvxl8VPDX7IHxV8Qfs/S%2BIfF66T4k1eH4SfbtQl1i6urRFiSNYpryVnuo0m88J5kpyIyu7AAHzj8S/2tPih8TP2tf2e/hB4a1rw/8AEHx5oWpaprMzeIdPfwXbxBIZ7ea0voZJL2WK8ie1kz5cRx5kZWJlJcVP2lfjv8cfiT4u1L4X3Pwm%2BK/7O3wyheBJtf8ABvgy/OqXkNtG0KIskLx29rB5Xy7Ig6gYz5mAB1PwS/4JR/sV/Gfwd4W/aI/Yf%2BMOpf2lpsmpW114w8b2N7q11dXU6qs155Mk9qsN/DKPOilKPAruSYJBsK/ZUsDSyim8VjN5qSi4pTUXKDiueUXy3td8qd7t32R81LOcBxFWeEoWVpxk%2Be8HJQabsuXnceZRd0ld/wB2Vz6d8N/8FF/gtrOj%2BD9Qv/DviOCXxLouj6jrH2bSzcW/hddTne2s11CZSBF5lzFNCMBiDGWcIuDXv9fImo/sNfErR/GWufB3wToujp8MvFuqeH7nU/EU%2BtP/AGjY6bpdrEjaULXycSNNPC8v2jzQAL2YGMFF3fRXx30X46a98N7vTv2cfHXh3w54rM0T2Op%2BKdBl1KyVA4MiPBFPC53LlQwcbSc4OMV8hiKeG5oqk7X7vbtfTTtbXa/U%2Borww/NFU3v3e3rpp267X6nY0V8q/bf%2BC23hz5ptA/Ze8Wxp977PqPiHQ5ZB7K0d6oP1bFSWv7R3/BVrSZDbeJP%2BCZngvUwkbsbvw38f4cSMFJCiO602IjJAAy2OecAUvqc38M4P/t5frYX1ST2nF/8Aby/Wx9TUV8q/8No/8FC7E/8AE5/4I8eM2UdX0r4veFrgfgHvI2/Sl/4b3/bAhGLv/gkH8YlbuIfFnheQfmNTo%2Bo4jpy/%2BBQ/%2BSD6nX8v/Ao//JH1TRXyt/w3j%2B2ZcfLp3/BID4uM3YXPjTwtCPzOpGk/4bF/4KPX3/IK/wCCPviCEH7raz8a/DUA/HyZpiPyo%2Bo1%2BvL/AOBw/wDkg%2Bp1%2Btv/AAKP/wAkfVVFfKp%2BO/8AwV58T/ufD/8AwT1%2BFnhknhZ/FPx4lugPcpZaS35BjR/ZP/BbPxR%2B4vfGn7Mfg2J/vy6doniDXZox/smWazQn6rR9TkvinBf9vJ/kmH1Rr4pxX/byf5Jn1VRXyn/wxj/wUL8Z/ufiv/wVp8Q2trJ/r7P4a/CjRdFIHok92t7KuPXd74oP/BH39m7xbz%2B0N8XPjT8Wx/z7/EP4vapLa5/69LOS2t8H%2B75e32p%2Bwwsfiq3/AMMZP8%2BVB7HDR%2BKr90W/z5UeofHP9vn9if8AZojm/wCF7/tU%2BBPDNxB9/TtR8SW/20nuFtlYzOfZUNeV/wDD1G3%2BKI%2By/sY/sX/GT4ttNxZa6nhQ%2BG9BlPqdQ1o2wK%2B8ccnsDkZ9d%2BCP7Dv7HH7NnlSfAb9l3wH4UuIh8t/o3he2hum92uAnmufdmJr1OjnwNP4YOX%2BJ2X3R1/8AJh8%2BDh8MHL1dl90dfxPk0%2BCf%2BCvH7Q5z41%2BLfw3/AGfNBn%2BY6d4F05/FXiEIeDG99fJDZQtj%2BKO2lx1B9Oh%2BFf8AwSo/ZI8C%2BMbf4rfEzRdb%2BLnjm25i8b/GPW5PEF7Cc5Bgjn/0a0wen2eGPHQdBX0jRSlja9uWFoLtFW%2B97v5yE8XWtywtFf3Vb73u/mxFVVUKoAAGAB2paKK5DlCivN/GH7WvwB8J6F4v1W1%2BIum65d%2BB7OS48Q6H4fv4bm%2BgKFQY/KDjD7nRDuKhWdQxXOa818Z/tWfFbxxr/h34R/DfRk%2BHni3UdeutO12LxnpkWoHTpo9Pe9tYlFvdLE6XIRgs6u4HluuzcykdVPB4ip0su706X9dvJ9ClGTPpKqXiPxJ4d8H6Fd%2BKPFuvWWl6ZYQNNfajqN0kEFvGOrvI5Coo7kkCuY%2BAHxUuvjH8MbTxjqujrp2pJd3Vhq%2Bno5ZYLu2uJIJQpPJQtGWU91Za828S/wDBP7wB8YPivefE/wDaj%2BIPiD4m2ceqtdeF/A/iGWOLw9oce7MaiwgVY7uRQdvnXPmkjHAPNTClSjUlGvLlt2V2/JdPm3b1BJX1OY1H9tP4wftT3k3gz/gnR4Bh1LS/MaDUPjX4xtJYfDllg7XNhF8s2rzLhgPL2wBgu6Ug4rvv2bv2Kfh/8BfEF58V/E3iLU/HvxN1mAR6/wDEnxWVkv506m3t1UeXY2oJO23hCqBjcXIBr2GysrPTbOLTtOtIre3gjWOCCCMIkaKMBVUcAADAA6VLWlTF2g6dGPJF79W/8Uv0Vo%2BTBy0stAooplzc21lbyXl5cJFDEheWWVwqooGSSTwAB3rjJPHP2oP%2BS3/s4/8AZZr7/wBQrxRXs1eFfHjxV4Y8b/FD9mjxX4M8RWOraXe/GO/ez1HTLtJ4J1/4QvxSNySISrDIIyD2r3Wm007ME0wooopAFFFFABRRRQAUUUUAFFcz8LPjT8HPjnol34m%2BCfxZ8M%2BMdNsNSk06%2B1Dwtr1vqEFveRhWkt5JIHdUlUOhaMkMA6kjkUng742/Bn4ieL9d%2BHvw/wDi54Y13X/C04h8TaHo%2Bv291eaRISwCXUMbs9uxKsAJApyp9DQBwH7eH/JEND/7LN8OP/U10Su5%2BM3wI%2BEH7Qvg%2BTwH8Z/h/p3iDTHbfHDexfPbydpYZFIeGQdpI2Vh2NcN%2B3h/yRDQ/wDss3w4/wDU10SvZqqE505KUXZrqhNKSs1ofNi/C/8AbU/ZU/e/Azxp/wALi8Fw/d8EePNTFvr1lH/cs9VI2XIHaO7XOFA86uw%2BDf7c3wI%2BLficfDPU7/UPBXjlQPP8B%2BPLE6ZqgJ/55JIdl0pxkPA8ikc5r2OuS%2BMXwG%2BDP7QXhg%2BDvjV8NNI8S6eCWih1SzV2gY/xxSffhf8A20KsPWuz6zRr/wAeOv8ANGyfzXwv/wAlfmY%2BznD%2BG9Oz2%2BT3X4o62ivnFf2Vv2nPgL%2B//ZE/abnvtJi/1Xw/%2BLvm6tYqvQR2%2BoIRe2ygcKGM6j%2B7jinj9vXWvhMfsP7Zv7N3iv4crHxJ4q0yE694eYdA5vLNTJbg9cTwx4HU8E0vqUqmtCSn5LSX/gL1%2B5yH7ZR/iLl/L71%2Btj6Lqrreh6J4l0m40DxHo9rqFhdxGO6sr23WWGZD1V0YFWB9CMVj/DP4vfCr4z%2BH18V/CT4j6J4l01sf6boepxXUak/wsY2O1v8AZOCO4roq5JRnTlZppr5P9DVNNXR8261/wTJ%2BEPhfV7jxf%2ByZ8QfFvwP1qeQzSD4eamE0i5l7GfSbhZLKRR6LGh/2qrjxT/wVF%2BBB8nxR8N/Anx10WH5RqPhS/PhnXSo6u9pdtJZytj%2BGOeLPoO/01RXWsfWkrVkqi/vK7/8AAlaX4s05311Pm/Sf%2BCpn7MGl6lD4c/aAt/Fvwc1ed9kdj8V/C8%2BlQue5S9w9m6%2B6znP51734N8deCPiLocfif4feMtK13TZv9TqGjajFdQP9JI2ZT%2BBq7qukaVr2nTaPrmmW97aXCFLi1u4VkjlU9QysCGHsa8G8Y/8ABLr9iPxLrcni/wAMfB4eBdffldf%2BGerXXhy6R/7%2BdPkiR26n51bk560Xy%2BpupQfykvx5Zfiw9x%2BR9A14n8b/APgoZ%2Byf8CbmXQNd%2BJ9trfiIP5Vt4T8KL/aOpXE5OFgEUORG5PQSMn1r5P8Aiz%2BzX%2B0h8X/2itZ/YL%2BEf7dfjvUvCmheGbfXPF0vxEaHUfJuJH/0fT2mtEtLuaOSNg7BpyNpB5ZBn0v4L/B39tX9jLTk0/4f/sM/AbxXbpH5bX/w/wDFN1oeqTL0zIdTgnMh9muj9RXsQyrLsNTjPEVeeUkpKCap%2B69nKU07X3stbWd9UeG8TmGPrVKeC5Iwg3FzldtyXxcsFZPlbteUkua6SaTZq3Hwu/b7/bg8MahJ8VPiPF8F/AXiAyQDwPpmiR3WuXGmt8pS6uZGH2aSRc5VBkA7WXqK%2Bnvhh8MPAnwa8BaZ8M/hp4bttJ0XSLYQWVlbJgKB1YnqzscszHJZiSSSSa8J/wCHg/jfwj/o/wAa/wDgnz8dPDkyf8fFzonhq28RWaDuRLpdzM5A9fLHFTWH/BWn/gn/ACXaaZ4n%2BPa%2BFbxztaz8b%2BHdR0R0b%2B6ft1vEvHsSPeufGf2pi4KnCko007qNNJra124uTk7ac0rvfa9jqweU08JN1W5VKjVnOTu7XvZdIq%2BvLFJbb2ufR1Fee%2BDP2t/2VPiMEPw//aY%2BH%2BuF/urpPjGyuCfbEcpOfau/t7m3vIFubS4SWNxlJI3DKw9QR1rxZ06lN2nFr1TX5pHoNNbj6KKKgQUUUUAFFFFABRRRQAUVU1jXtD8O2h1DxBrVpYwL1nvLlYkH4sQK8y8bft4/sS/DkOPG/wC1x8N9OkT71vP40svO/CMSlz%2BArSnRrVXanFv0Tf5JjSb2PWKK%2BbG/4Ky/sX6wTb/C7xN4s8f3R/1dr4A%2BHWs6qZP92SG1MR/77pD%2B3D%2B0Z41%2BX4I/8E0vipfj/n68d6hpfhmD64nuZJ8f9sd3%2BzXT/Z2NXxQ5f8TUf/SmvyK5Jdj6Uor5q3/8FZ/iT923%2BCPwssp%2B7vqXijUbcfQCyty3/fQPtSH9gb4s/EL95%2B0j/wAFBviz4mVuJdK8IXNr4U0%2BRe6MmnRi4Ze3NwTjqTR9UpQ/iVor0vJ/gkvxDlS3Z9KCWNpGiWRSygFlB5Gemfyrxb4V%2BK/iB8Lvj34v%2BD/xo%2BLF54hsb7RoPFPhTWtZtLS1EFsJDa3tkDBFFGI4H%2ByOCwLkXnzMxrqP2fP2VPgH%2ByxpOo6P8Cvh%2BmiprFwk%2Br3EmoXF3c30qKVWSae5kkllYAkZZj1rQ8Sfs8fBLxn8U9O%2BNfjP4babrHifRrQ22i6rq0RuTpqEksbZJSyW7tn5pI1V2AAZiAAIjPDwlOOri1o7K99LdXbW99dhJxVz5l/4UZ4m8X%2BI/CfwXuPh/q15YWfiXX5j48sCh02%2B8K6r9puX/wBJUkC6NyLGTy9p3SQh8bWLD0nwZ%2Bxt4t8TXWr6n%2B0l4z07Ur2XS9EsdG1DwjHPY3EM2mPLLFqpkdmaO8d5FDKpMYWFV%2BYM4P0J06UVrUzGvJWjp%2Be936X7LQbmzn/hd8M/C/wg8E2vgLwgLtrS2kmlefUL17m4uZ5pXmmnllkJaSSSWR3Zj3Y4AGAOgorzz41/tY/s4fs6xqPjL8YtE0S6lx9n0qS582/uM9BFaRBp5SfREPUVyxjWxFS0U5SfbV/gZynGKvJ2PQ6jurq2sbaS9vbiOGGJC8ssrhVRQMliTwAB3r53b9qL9qv44D7L%2Byt%2Byjd6Rp0vEfjf4xyPpFoB2eLTo917cKRyN4gB9R1p1t%2BwPc/Fa5j1v9tn46698UZFcSL4VjH9keGoGByoGn2zZuNp43XMkuR1Aro%2BqRpa15qPkvel9ydl85fIx9s5fw4389l%2BOr%2BSLPin/goD4P8AEevXPw8/ZE8Aap8Y/E1tIYrpvDEqxaJp0n/T3q0n%2Bjx9/ljMsnGNmaz4P2OPix%2B0TcR69%2B3p8V49a07eJIfhV4Jeay8OwkHIF1ISLjUyCAf3pSLIP7rBr6C8MeFfDHgnQbbwr4M8OWGkaZZRiOz07TLNIIIE/upGgCqPYCr9P63Gjpho8v8Aeesvv2j/ANuq/wDeD2Tn/Ed/LZf8H5/ceGfH7w54e8IfFL9mfwx4T0Kz0zTbH4wXsNlp%2Bn2yQwW8Y8E%2BKMIiIAqqPQACvc68Z/ag/wCS3/s4/wDZZr7/ANQrxRXs1cTbbuzfYKKKKQBRRRQAUUUUAFFFFAHyr%2Bwt8UvDUPxZ%2BO2nQ/C/4i6FaeIPjLb33ht9b%2BD3iHSbW6sm8O6JYrNHJdWEUYjFxY3KE5AQRhmwjozcR%2Bwp8P8A4g6X8YfhT4Y1b4UeKND1D4T/AAz8Y6D8Ste1nw1dWVnqep3%2Bs6XNC1rdSxrFqa3L2d3fedbvKsYceYUkmK19w0UAfPH/AAUL034rz%2BD/AAZqPhzxp4etfC0Pxh%2BHo17Rr3wxPcaheOfGejeW1veLexx2wVtpYPbTFgCAUyCNrxyn7c/wy8Y6l4s%2BH8vhf4neF7u7eeHwjqAGi6tp0ZPENtdruguFUf8APdUY9N/ep/28P%2BSIaH/2Wb4cf%2BprolezVpSqezeyafRr/hmvkzGvR9tFJScWtmnb/NP0aaPEvBv7fPwK1PX4fAvxYOrfDHxPMdqaB8RrA6aZm6fuLliba4BPAMcrE%2Bgziva4ZobiFbi3lV43UMjo2QwPQgjqKzfGPgjwZ8Q9Bm8K%2BPvCWma3plwMT6dq9jHcwSf7ySAqfyrxaX9gnQ/AEz6l%2Byj8afF3wrn3F10nSr3%2B0dEZz1Ladeb41B/6ZGL2Ira2Eq7Nwfn7y%2B9e8vuZzXzChulUXl7svud4v5OJ77QQCMEZB6ivAR8Q/wBvr4Qfu/iF8EvDPxR0uLrrHw91T%2BzNSCDqz2F8xjdyOcR3H0Har/hv/goX%2BzJfavF4W%2BIniXUfh1rkpwNF%2BJWjzaLLn0WS4Agkz22SNnt1FDwddq8FzL%2B67/gtfwGsxwqdqjcH2muX8X7r%2BUix8Sv%2BCf37K3xJ8QN45h%2BHJ8LeKDkp4t8B382iakrn%2BMzWbR%2Baf%2Bugce3Fc6Pgb%2B3p8IRn4K/tZaV4706PiHQPjD4fBnCeg1PThHIW95IJPfNfQOlatpWu6fFq2ianb3lrOm6C5tZlkjkX1VlJBH0qxVRxuJiuWb5kuklzfnqvk0dHsaT96OnmtPy0f3HzuP2xvj/8Nv3P7Rv7CvjWyiXhtd%2BG91D4nsmA6yGOHy7uNe%2BDASPfrXvuga3ZeJdBsvEempOtvqFpHc263Vs8MoR1DKHjcBkbBGVYAg8EAirdeXfHX9sb9l/9n%2B3uNO%2BLfx70TQL8Qn/Q0uVuL6LI4cW0aySH1GUIPvTVOWOmoYei%2BbtHmlf5atfeZ1a1LB03Ur1Uo95NL8W0Xfgp8TPH/jnxp8QvC/jPS9GS28JeKk0zTL7R5JcXEb2cF3tlWTpKi3EasVO0nOAMYrxjxJ/wWO/Y48HeJNc8K%2BJtS1y3utGnu4YmtbKG9S/a3kZH8v7JNK0QJRiPPWL5RnoQT86eD9e8Tftb/Gmz/ZR%2BH/xU8bax8PvE2qan4u8deJrvwbLodzqcphAhsJ5odii1YxRgusaZEiIAWUEe42f7C/ib4cfD7xlb/Df4I%2BEfC1lqHhvTtMfwZ4L1qS8/tsQ36z3VzJcXUFuWme2MkCJJncSQ8uCCvv1Mry3AVEsdfmkk1FPlstFeTfM7yak%2BW2i1bV1bxKWZ43M1L6g48kXbnacrvdqMVy6K6XM3ZvRJ2M39kbUfiJ%2B03%2B0Ov/BRf4gf8Ir8PtA0/wAPT%2BH28O2t/MdRuI3ZXiGqPKI41K70kT5QSGj4xtNfasckc0azQyK6OoKspyCD0INfIPji0ltfiJpnxp/aI%2BH99pngvxF4s1DUtQ8PajpYvWMltpn2HTY7uCESq0kyyTyANuVWgt1LbtoHvn7K/hnxP4D/AGc/C3h7xtYvaX1npW6XTyCWsY2dnjtcDJ/dRskWP%2Bmdedm8/rLjVVkklGMVsoq%2Bl7tyad7t916HoZXho4KEqabk5NylJ7uTtd2SSV7KyS6ddz0Sob/T7DVLR7DU7GG5gkGJIZ4g6MPQg8GvA4v%2BCo37FFpItr4y%2BKGoeE7nOHtvGXhDVNKKH0LXNsifkxrt/Cf7Z37IfjsKPB37UXw%2B1F36Q2vjCyaQexTzNwPsRXnSwWNpq8qcl8n%2BaT/M9BV6MnpJfeiHxn%2BxD%2Bxn8RC7%2BOv2T/hvq0j/AHp77wVYyS59Q5i3A%2B4NcDcf8Ejf%2BCdrzPc6V%2BzZZaNI5yX8Na7qOlHPt9juIsfhX0LpOt6Lr1qL3Q9Xtb2E9JrS4WRT%2BKkirVOGNx1JWjVkv%2B3pflf9DdTlbRnzb/w65%2BBmm8eBvjL8bvDCj7qaF8bddRV%2BgluX/Wj/AIdy39txo/8AwUC/aSswOg/4WNBc4/8AAqzlz%2BNfSVFV/aOO6zv6qL/OLHzz7nzb/wAMGfGa040j/gpr8dkA6fbZ9CuD%2BbaYM0f8MTftNpxB/wAFRPi0B/000Hw8x/P%2Bzq%2BkqKP7QxXdf%2BAw/wDkA55f1b/I%2Bbf%2BGI/2lJeLv/gqF8XWHfydF8PRn8xp1H/DAXxSvRjW/wDgpf8AtAyeosdV0S2z/wB86WcV9JUUf2hi%2BjX/AIDD/wCQDnl/Vv8AI%2BbT/wAE3oLr/kN/t2ftJXoP3h/wtZ7XP/gJDFj8MUf8Oqf2XdU/5HzxL8VfFWfvf8JF8Z/EMob6hLxAa%2BkqKP7Rx3So16WX5RQc8%2B5876P/AMEm/wDgnLo92L9v2SvC%2BpTj/lt4gSbU2P1N3JJn8a9N8E/sufszfDRkb4c/s7eBdAMf%2BrbRfCVnalfoYolru6y/EfjnwT4PiM/i3xhpWloBkvqOoRwDH1dhUTxeNr6SqSl5Xk/wv%2BhLnK2rNQAKAqgAAcAUV5F4u/b%2B/Yg8DBh4l/a0%2BHsMifft4PFdrPKP%2B2cTs/6VzB/4Kc/st6x%2B7%2BGQ8c%2BOZv4YfBfw11i%2B3fSQWwjP4PRHA42auqcrejS%2B92X4mLr0E7OS%2B/8A4c%2BhKK%2Be/wDhsj9oDxbx8I/%2BCdvxMvB/z8eM9R0vw/F9cTXMkuP%2B2efakOr/APBUTx189h4N%2BDPw9tpeCNT1bUfEN5CPXbDHaQkj/fI9qr6jVj8cox9ZR/JczF7eD%2BFN%2Bif62PoWqXiDxJ4d8J6XJrnirXrLTLKEZmvNQukhiQe7uQB%2BJrwf/hkX9prxxx8av%2BChXjaWA8mw%2BHmgaf4djB7jzQk9xj/tqD6EVc0D/gmh%2Bxtp%2BqR%2BIvGPwsl8cashy2rfEbWrvX5nb%2B8RfSyRg/7qAUexwcPjq3/wxf5y5V%2BAc9aW0ber/wAri%2BJf%2BClX7H%2Bl6rJ4Z8EfEifx9rScLonw10a51%2Bd2/u7rJHjU/wC86is8/tC/txfFY%2BV8D/2MIfCllL/qfEHxh8TR2hUep06w8%2Bcn2d4/w7e8%2BG/C3hnwdpMeg%2BEPDlhpVjCMRWWm2aQRJ9EQAD8BV%2Bn7fCU/4dK/nJ3/AAjyr8WHJVl8Urei/V3Z87H9kT9o34r/AL79pv8AbY8SS2knzSeF/hbYp4bsRn70bXCtLezJjj/XJn0659C%2BCv7If7NH7PEjXnwf%2BDWi6Rfy5%2B0a0bc3GoTk9TJdzF55M8/ec9T616PXnl/8b9f0T4pad4I8SfCfUNP0fWtYk0rR/EM%2Bo2zfartbeW4/490YusTJBLtcncShyijBpPE4uvFwTtHsrRX3K1/nciSw9BqUt27Xd3%2BOtvwPQ6yfGnjrwt8PvDd34t8Wap9nsbLaLh4oJJn3MwVEWOJWd3YsoVFUsxYAA5rw34j/ABZ%2BJvhb4ieLvGcXxCmg07wf4j0myufCc9tAbSXSbyK3R7veIxN5izT%2BZv8AM2qsLJt6k%2BWeGfh616LH4P8Awns4dP8AHNpoU8ni3TpIhEp1nSbxLrTtRuyoGXuLg5%2B1YJlUv8zBMC6eCTXNOWn9N37brXVanFWzNxk404a6rXq7tKyW%2Bqel07I%2Bw/Avj7wn8SfD0fijwZq4u7N5GjYmJ45IpFOHikjcB4pFPBRwGHcV5p8Tv2rPEWjeOL/4S/A/9njxd488TacyJfSJa/2Zo9k7osiibUboLGTsdWxCspwcYzxWz8BPD/jS38T%2BNvHHijwReeGYPEes29zZaLfXtvNIGjtY4pbhjbySIvmOvA3bisaFlViVHpVYP2VGq7rmXr%2Bdt7baNHUvrGIw6tLkfV21tqtFLa%2Bj1Tt2PAfjDcePLrx5%2BzDc/E/TNLs9ff4vXp1S10S7kntYpf8AhCvFPyxySIjMMY5KjnNe/V4z%2B1B/yW/9nH/ss19/6hXiivZqwbu7nXFcsUr3CiiikMKKKKACiiigAooooAKKKKAPGf28P%2BSIaH/2Wb4cf%2BprolTeMrX9tjwR4r1DxH8P9T8G%2BO/D9xdPNb%2BGNYhk0fULOIniCG7j82KXA/iljUnu3rD%2B3h/yRDQ/%2ByzfDj/1NdEr2SOWKUExSK21ip2nOCOo%2BtXCfI9k/U5sVhliYpc8oNapxdn%2BTTXk00eIw/t0%2BB/CMq6d%2B0b8NfF3wxutwRrrxJpBn0x39E1C082Aj3dk%2BnSvWvBvjzwP8RNHTxD4A8Y6XrlhJ9y90jUI7mI/8DjYitSaGK4iaCeJXR1KujrkMD1BB6ivJfGP7DX7M/ivWH8VaX8P/wDhFtdbJXX/AAPfTaNeK394vaMgc/74arvQlunH8V%2BNn%2BLOLkznD/DKFVf3l7OX3x5oP5xieuVR8R%2BF/DPjHSJdA8XeHbHVbCcYmstStEnhkH%2B0jgqfxFeOf8KQ/a7%2BHHzfCL9q6LxFZx/6nRfij4eS7JHob6zME34sr/j39J%2BEmqfF/VfDEj/G3whomj6zDePEsfh7V5Ly1uYQqlZlaSKN48sWGxgSNoOecBShyLmjJP70/u3NqGMnXn7KtQnB26pSi/8At6La%2BTSv2PMtU/4J1/s222oS678JbPxB8M9Tmbc998NfEdxpKk%2B9ujG2YezREduleZftKeOv2u/2HfC%2Bla34c/aWsfiXPruu2%2BjeGPBXjHwZD/aeo3MzBVjjurGa3DEDlneMgcZJLAHoP2yP2s4PBnj7T/hj%2Bzp4o8QeKPiwjotp4C8L%2BRPabPMRpG1MvGwt08vI3b0dNysdqkuOF0j4ZftC%2BF/2ofCPx4/ak8R%2BEtc8capp1zHoOm3lveQ6D4VRpIkWztJ445F%2B2S%2Ba2ZpQSQjKpfAavfwVOcYqvjpJwtdQl8U9NErrmUe87rTSN21b5rMMbhYzqUMDBxmpRi5wfuQ5mr3s1FzX8lm7tOTS0fJ%2BOPB//BTbx54jm1L9rmx%2BIsfg6cBx4e/Z81XTIWgUjJhlMky3Mw7MAXBwcNyK7r4C%2BPf%2BCV37Ns0Nmvw7l%2BHWvmTMl98UfBt/a6i0hOSxvb2JlBJycJKF7gAYr6NT9oXRD8RU8Bt4S1VrY6yNGl8RReS1kmp/Zhc/ZuZBKf3Zx5gj2b/kJDcVq%2BCfi38LfjC99onhTVhqa28KSXEdxps0cVxBIWVJojMipcQsUcCSMuh2kZrGvm%2BJrUfZyjyQ7U3yR%2BaSd/8At5tnVhstwFPE89KsqlS7V6q55X3fK201/wBuxS00btpa8C/F/wCE3xQtxd/DT4n%2BHvEMRXcJND1qC7GPXMTtXRV5P46/YU/Y5%2BJFwb7xX%2Bzb4Re7Lbjf2Ojx2dyT6%2BdbhJM%2B%2B6ud/wCHf3gbQPl%2BE/x8%2BL3gqJf9VaaJ8RLq5tkP/XG/%2B0Jj8K8vkwctptesb/jF/oe77TMYfFTjL/DJr8JR/U96orwYfAH9tjwzz4L/AG8F1OKP/VWnjX4b2N1uHo01m9s/44Jo%2B3/8FMfDnz3Phz4KeK4k6rZ6lqujzSD2EkdygP8AwLFH1aL%2BGpF/Nr81%2BofXZx%2BOjNeiUv8A0mX6Hu8sUc0bQzRq6MMMrDII9CK4jxZ%2BzF%2BzX49LHxz%2Bz34H1kv986r4Ts7gn8ZIzXn/APw0V%2B2ZovPir/gn3fXMa/6ybwt8SdLvPxCXH2Zz9MUf8Nzahp3yeLP2LfjnprL/AKxofBEeoIPobK4mJH4VcMPi4O9N/wDgMl%2BkkJ5hgmvfuv8AFCS/ODDVv%2BCYH7AOrXJvf%2BGWvDNjMekuiRS6ew%2BhtXjx%2BFVf%2BHZX7Munc%2BDNT%2BI3hsjodB%2BLWvQ7foGu2A/AVb/4eP8A7M9h8ni9fHPh1%2B8evfDDW4Nv1ItGUfiaktf%2BCl/7CN1MLeX9pbw/aSH/AJZ6n51ow%2BomjUiujnztLeb%2B9/8AyRl9bya/xwXzS/PlKA/4J9Wlrxov7Z37QVkB90D4oS3OP/AqKX9aP%2BGH/idY/wDID/4KIfHCL0F9f6PdY/7704V1%2Bm/tz/sW6uB9h/az%2BHBJ6LJ40so2P4PKDW3ZftP/ALNWpAHTv2hvA0%2Benk%2BLbNs/lLUPEZmviT%2BcF%2BtM2jUy6Xwzj8pr/wCTPNv%2BGR/2n7fjTv8AgpP8RVA6fafC3h%2Bb%2BdiKT/hln9sZeIv%2BCmXjAD/b%2BHfhxv8A2zr1yD42/Bi6GbX4u%2BGJB/0z1%2B2P8nqwvxW%2BFzjK/EnQD9NYg/8Aiqj63jFvFf8AgEf/AJA0UcK9pf8Ak3/2x43/AMMrftgycXH/AAUx8Zkf9M/h/wCHU/lZ0v8Awx/%2B0hdcap/wUj%2BJzg9fsmg6DB/KwOK9if4tfCuIZk%2BJnh9R6trMA/8AZ6qXPx3%2BB9mCbz4y%2BFIgOpk8RWy/zehYrGvaK/8AAI//ACANYVby/wDJv/tjyf8A4YV8cXnza3/wUG%2BPM57ra6/pdqp/79acCPzo/wCHePhq848QftYfH3U1P3o5/i3ewo31W28oV6JfftXfst6WCdS/aT8AW4HXz/GNimPzlrC1T9vr9iLSATd/tZ/D1sdRbeLLWY/%2BQ3arVfNJfCn8oL9KZlKrlsPiqR%2Bc1/8AJnMf8Ovv2P775/Ffhvxb4gkP3n8QfEvXbrd9Va82H/vmtTw5/wAE1/2BvC8om079kfwLO4Od%2BqaDHfMT6k3AfJqu/wDwU0/YYLmOw/aAsNRYHG3R9Lvb0/gIIXzTf%2BHifwO1LjwR4F%2BKPiYn7v8AYXwo1l930Mlsgq3LOmrNzS9Wv1iZLF5OnpOD9LP8lI9T8I/BX4N%2BACp8B/CXwzohT7h0jQbe22/Ty0GK6avBj%2B2p461j914I/YT%2BM9/IfuNqmjWGlxH6tdXisPxWj/heH7d2u/uvD37C%2Bl6Rv%2B7ceKvipaLs92jsoLjP0DVzSw2Jk7za%2Bcl/8k2arMMIlaCk/SE3/wC2pHvNFeDf2b/wUw8S/urvxR8FvCcT9XsdM1TWJ4x7GSS2Qn6rSf8ADL37Unij918Sf%2BCgfiryG%2B/b%2BCfCOl6Pj/dkeO4lH/fZqfq9NfFVivS7/JfqP65Vl8FCb9eWP5yv%2BB71XCfET9qH9m74SCQfEz48eEdDkjzuttR8QW8cxPoIy%2B9j7AE1wH/Duf4Ba58/xY8SfEDx8/8A1OfxD1K5j/78xyxw49tmPau7%2BHf7Kf7M3wlMcnw1%2BAPg/RZo8bbqw8PW6T5Hcy7N7H3JNHLg47ylL0SX5t/kHPmU9oRj6ycn90Ul%2BJwZ/wCCifwY8R/J8FfAPxF%2BI7dBJ4M8CXj2%2Be2bm5WGDH%2B15mPej/hbf7fXxC/d/D/9lPwx4Kt25j1L4j%2BNBcSbfU2mmpJg%2BxmX0OK97oo9tQj8FNf9vNv8PdQfVsXU/iVn6RSj%2BL5mcN8EfC3x98PWeoXXx9%2BLOi%2BJb29ljezttA8MnTrbTVAbfGhaaWSYMSDucgjb05rK%2BJ3wr%2BL/AIx%2BN3hvx14V8ZeHNN0Xw/pdwkcepaNPeXQu55EWWWMLPFGp%2BzoY1dt%2B3zZDsORXYeOfip8MfhjZ/wBofEj4i6HoEG3cJdZ1aG1Uj2MjDNeXz/t%2B/ArWJWs/hFpvi34i3KMVaLwJ4TuryIH3uWVLcD3MmKUHXlN1Ix38tO3kvxMMTicrwsFQr1kmmnZzvN2d9lzTf/gJ3esfAX4b%2BLNY0vxP470Ya3q%2BkS%2BZaapeYjkOJBKiusARJUR1VlV1YKVB6812eAOg614efib%2B3J8Q/k8A/s5%2BG/BFq3Kaj8Q/E32qcqe/2PTw2G9mnX3xSH9ln4z%2BP/3nx6/a/wDFd9C3LaL4FtovD1ng9UZ4t9zIvbmYZ/SlKDaXtJrT5/gtPxM4Y9yb%2BqYacr9WlTT9XO0n/wCAM9D%2BKXx9%2BCfwTs/tvxZ%2BKeh6ACu6OHUdRRJpf%2BucWd8h9lUmvOv%2BGvvG3xG/cfs0fsy%2BLPFET/6rxD4ki/sDSSp6SLJdr58y%2B0cJz6%2BnYfC79k79nL4M3n9rfDz4Q6PaakW3PrNzAbq/du5a6nLzE/V69DqeahHZN%2Bun4L/Mv2OcYj%2BJVjSXaC5pf%2BBz0XygeCfGiTxvL8Qf2Y5PiRa6XBrrfF%2B9OpxaJNJJaJL/AMIV4pyImlVXZcY5YA173XjP7UH/ACW/9nH/ALLNff8AqFeKK9mrJu7uepCPJBRu3bq9367a/IKKKKRQUUUUAFFFFABRRRQB8u/Ab9sb42/ED4xeFpPG2meFl8B/EzWvF2meCrPS9NuYtV0uTRbuWKGS8uHuXiulu7e2uZiscMBt28uPM%2BTILvwa/an%2BLvib9sLxX8FPi94m0Tw3plv4l1DT/Afhu9%2BE%2Bt2N14itLe1hm%2B022u3F39gvXG6dngt4C6pCxO0KzV0Xg79gzwN4C%2BJcnxI8L/F3xvALW91e78K6BJPp0mn%2BGJ9VvkvdTeyR7IyE3Eiuv%2BkPP5Mc8qW/kK2Bvy/stQa18c9H%2BN3j743%2BNfEq%2BGNXvNU8HeE9VOmR6XoV5c2k9k80P2WyhuZmW1urqFPtM8wVbh8DdtZQDjP%2BChfxc%2BFHhrwf4M%2BFHiP4neHtP8U%2BIPjD8PZdB8NXutQRahqSR%2BM9GaRre3ZxJMFVWLFFIAUk4wa7Xxf%2ByH8KfEPiW98deF7/AMQ%2BD/EGoTtNfa14P1%2BaykuJDyWkjy0MpJ674znvWX%2B3h/yRDQ/%2ByzfDj/1NdErpvEXxW%2BJ/g/XbuLWfgHquo6NHOwtNV8NahDdyvHn5We2YxyKcdQu/8ayrV6dBJzvbyTf32Tt9x5uZUsuq0orGU%2BaKej5ZPldt7x96OnVNdrnOf8IX%2B2h8PufCXxe8MeO7Neln4y0dtPuwo/hF1ZZRm92h%2BvrR/wANQ%2BPvB37v41fsteM9GVfv6l4bSPXbJV7sWtT5yj/ehHvXRaJ%2B1H8DtXvV0i/8bR6JqB4bTvEttJp0yn0xcKgJ%2BhNdhrHi/wALeH/C13441nxBaW%2Bj2FlJd3mpPOPJigjUs8hYcbQoJJ9qKFejiXajJS9Hd/dv%2BB59HDUpRcsBjZJLdOUasV6qfvx/8DVjjfA37WH7N/xGuv7O8K/GPRHvd206bfXX2O7B9DBcBJM/8BryD9rn9oHxn8TPi1oP7DH7K3xHhsPFPiBp5PHniXTYGuZfCmlJFuZtykLFcS52Jlgykr90ujjj/iP8dPib%2B3toE/hz9lb9jey1DRL63eG1%2BKnxY0yK3sIFYEC4s7eRHluMZ3K4GAy/Mh6V33wM/wCCY/wl%2BAngKy0P4ffEfxtoXiA2yHX/ABN4d8Ry2z6tcjJMskD%2BZCVBYhUKHauASTlj9HSw0MnvWxaTqr4ad07O3xVFqko7qD1lK10op38ueNz3NKbo4eMalLTmqR56XNG%2BsYc91eS3nF8qTdnzNNdl8Ef2Ef2dP2fNOto/hn4e1Sx1KOIre69H4gu0vNScg7pLpkkVZyWZm2spRWOVVcDHQ/Eb4F6l8SUh0HVvitrK%2BHHFqNU0BrW1dbzyHSQfvzF5qF2jXf8AMQRuAC5zXP8A/CsP2wfCHz%2BDP2l9G8RxJxHZeOPCCBsehuLGSIk%2B5jP40f8AC0f2wPCn7rxf%2BzDpHiBE5kvfBXjSMEj1EF9HCfw3k15FTE4itVdWpJuT1u9Wd8amX4fD%2BwqYOpSh2jBuPzdKUr363jr1uZmv/s3/ABV1W413S7fxTpMOlnUdZ1rQLlPMN3JqV5Gwt/PXaqJHbs7YKsxkCx52lTu2PgF4B8W2via28WeJPAtz4WstC8F2XhnRdEu7y3mlKxEPNMzW7vHsysSJ82cIxIXdiov%2BGz/Bmi/8lL%2BEvxH8JKv%2BsuNY8FXE0Cn/AK62YmQ/XNbPhb9sD9lzxlIINC%2BPXhczE4FteatHazZ9PLmKPn2xSdeco2ZOHrcOLFRlDEpS/llJRb1bWk1CVk27JfO9ir8Rvj58Vfhz4yvNLH7JvjHxF4fh8v7J4h8LX%2Bn3LXGY1Z/9FkuI5U2sWXoc7cjrWH/w378EdH%2BX4k%2BGPH/gxv8AqaPh5qUKD/tpHDJHj33Y969m03VdL1m1W/0fUre7gf7s1tMsiH6FSRVikp0rWcPub/4J60sPmLk50cTo9UpQjJeicZRdu2/qzy7wt%2B23%2ByD4yYR6D%2B0p4MaRjhYLrX4LeUn02TMrZ/CvQtC8U%2BGPFEH2rw14jsNRixnzLG8SZcfVCRVLxT8MPhr44DL41%2BHmh6wGGGGqaTDcZ%2BvmKa89139gT9jDxBP9quv2bfCtrLnIl0nThYsD6g2xQj8Kf%2Bzvuvuf%2BRN88h0pT%2BdSD/KaPXqK8SH7AXwN0znwP4l%2BIXhg9v8AhH/iXq8QH0D3DgfTGKP%2BGOvFOnfP4X/bR%2BMdmw%2B6t5r9nfIPqLm0dj/31RyUXtP70/0bD61m0fiwqf8Ahqx/9ujFnttRXdlZ38Rt760imjPVJYww/I14v/wz9%2B1nYfLo37eurOg%2B6usfD7SbjH1MaRE/nR/wrH9vLTObD9q3wVqeOg1P4YPFn6mG/wD6Ueyh0mvx/wAg/tHFL4sJU%2BXs3%2BVRHpOpfBz4RaySdX%2BFfhu6J6/adDt3z/30hrEvf2Uf2W9SJOo/s2eALgnr53g6xfP5xVyP9l/8FGbT5YvGnwXvgOjTeHdWgY/983bj9KPP/wCCjkP/ADC/glcf9v8ArEOf/IT1ovax2qr/AMCZjLG0JfHhKn/gqL/9uZuT/sQfsYXJ3TfskfDMk9SPAung/pDVdv2DP2JXOT%2ByT8Ofw8HWY/lHWX/bf/BReH/WfDj4NTf9cvF2qr/6FY0f8JT/AMFDF4Pwb%2BE7e6%2BONQH87Cr58Uv%2BX3/k7/zM3iMue%2BDn/wCCDVj/AGD/ANiaM5X9kn4cH/e8GWR/nHVu2/Yp/Y3szutf2TPhpGR/EvgTTwfz8muf/wCEn/4KHPwvwf8AhKnu/jfUT/Kwo/tb/gozN9zwH8FoP%2BuninVnP6WQ/nQ54p71v/J3/mCxGXrbBz/8EI7Sx/Zh/Zq0sg6b%2Bzz4Gt8dPI8JWaY/KKt3TPhj8NtEIOjfD3Q7QjobXSYY8f8AfKivLt3/AAUdm/5Y/BK2/wC2usT4/wDHUo/sH/gonf8Ay3PxM%2BD2ng/xWfhHU52H/fy9UH8qhqpL4qi/8CbNY42jH4MJU/8ABcV/7ej2xI0iQRxoFUDAVRgClrxL/hUf7c2ofNf/ALY/hqwz1TS/hWjY%2BjTXrfyo/wCGcP2mdT%2BTxL%2B3t4qMZ6po3g/RrP8AJjbyMPzNZ%2Byh1mvx/wAjX%2B0MW/hwlT5umvzmz22ivEj%2BxbcXvPiT9rv41agW%2B8q%2BNkslP0FnBEQPxqnF%2Bwt%2ByNq%2Bo3OmeKJdb8T39mge%2Bi1/4japeSRKc4MkbXW0A4PLLzijkoLef3L/ADZLxeauyWHjG/8ANVj/AO2wZ674m%2BJvw38FKzeMviDoekhfvHU9Whgx9d7CvPNe/b7/AGNPD1z9iuP2i/DV7PnAg0S8OouT6BbUSEn2FQfC79lj9gy%2BsDrPws%2BCnw41aCCcxG/tNLtL/ZIvVfNYOQwz655r1fQfCvhfwrbfY/C/huw02HGPKsLNIV/JABR/s67v7l/mKE85xEFKEqKi9muef43jFnkH/DdXgnWefhv8D/iv4tRv9XcaP8PbqCFv%2B2t6IEH4mj/heX7Yfij5fBH7FY0uKT/VXvjbx7Z220erQ2i3L/hkGvbqzfEXjHwh4Qt/tfizxVpulxYz5uo30cC4%2BrkCj2lJbQ%2B9t/5Dnhcdy81fFuK/uxpwX3y53%2BJ5F/wiH/BQPxiNmvfGb4ceCojzjwx4VudVnHt5l5NGn4%2BV%2BBo/4Yy1TxR%2B8%2BMX7VfxR8Tl/wDj4srbX00azlHp5OnRwnHsXNbet/tu/spaJd/2ePjbpGpXPa28PmTU5GPoFtFkJql/w1rf6/8Au/hn%2BzP8TNeZ/wDUXM/h9dLtn9/NvpIjj3Cmj29RfDZeiX/BZ5UqvDTly1MQ6z7e0nV/8lp3X4Gh4H/Yo/ZQ%2BHd5/anhr4DeHmvt27%2B0tUs/t91u9fPujJJn33V6fDDDbxLBbxKiIoVERcBQOgAHSvIP%2BEu/bg8W/wDIB%2BDngbwhF/z08TeJ5tSmx6%2BVZxImfbzfxpP%2BFEftGeLf%2BSk/td6pawPzJYeBvDtrpgX2E8wnlx7gis5TnN3k2/U7MPi6NCHJgMFO3lCNKP3zcX/5K2euahqWnaRZyajqt/Da28S5lnuJQiIPUsSAK8x8Q/tqfs2aJqLaFpfxHi8RamOF0rwhaTatOzf3cWiyBT/vEVSsP2Lv2aF1mKTxxo114x1cKZFm8ca/carK4HBbyp5Gjx9EAruvhzrHwoK3PhT4YRaXax6c2JrHTLIW8aDcV3KoVVZcqy7lyMgjNZOpBSUW1dmjrZ1Wkot0qN9rt1JfcvZwv95wf/C9P2i/HQ2fCb9la/sIJOI9W%2BImsRaYiH1NtD505HsVQ/yoPwW/aa%2BIHz/Fj9pptFtZP9Zo/wAN9HSyx7fbLkyzH6qE/wAPVdf8TeG/CtkdS8UeILHTbYdbi/u0hQf8CcgVwlz%2B1Z8KLud7HwH/AGx4vukbDQeE9GmvFH1lAEIHuXrKrisNQdqk0n2vr92r/Awr4XCU3bMMXKbf2eZQT9IUrSf3yOQ%2BOHhaz8FfEf8AZl8KafqF/dw2PxgvY0udUvnubiT/AIorxQd0kshLOxz1Jr3ivC/j3q17rvxQ/Zo1jUdAutLnuPjDfPJp96yGWA/8IV4o%2BVtjMufoTXulbxkpRTXU9%2BkqcaUVTVo2Vt9rab67d9e4UUUUzQKKKKACiiigAooooAKKKKAPGf28P%2BSIaH/2Wb4cf%2BprolepWXjfwdqOqzaFY%2BKdPlvreUxT2aXaeajg4IKZz%2BleW/t4f8kQ0P8A7LN8OP8A1NdEr03xL8O/AnjAH/hKPCGnXzEf624tFLj6PjcPwNcWN/tFQTwfI3fVT5kmvJwu079WmvImXN0Lut%2BHtA8TWTaZ4j0Oz1C2b71vfWySofqrAivif9pD4BeC/wBoj9rWy/Yo%2BFvhtvBvh6x0WLxF8UdV0m8ktjqNi0m2Gwt7dW8tgzgF5ChC8f3Sr/S/jrwZ4F%2BEfhm58Yw/EjxF4ZsrRciGyv5LtHc/djjtpBKZXY8LGg3McADtXz9%2Byl4W/am%2BNP7Quq/t4a54ftdK0678JDwx4N0rxVA1nfajpYuvtP2y4igUiFmcDYGz8rHjAV20yfHV8PUrYzG4K06MHKEoyp1XztqMOSN4VW9ZtXjyx5XJyulF/N57h6GOqUMNOlzOU1zWV37NXcvesnFP3V8Sck3FLVs960j4LfGX4d6VbaH8Lfjwr6Zp9ukGn6P4n8OQTxRRIoVIxJbeS6qFAA4OAOKs/wDCZftReG/l1/4NaB4hQdbjwz4kNu%2BP%2BuV2ijPt5la3/CxviLpH/I0/BXUWQcGfQtQhvAfcIxjf9KWP4/fDWFxBr9/e6LMTgxa3pc9tj/gTpt/Wvnv7ayOD9/EyoPtU54f%2Bnocv/k56CwNGkrUas6flzNr7pqS/EyP%2BGndC0njx98L/ABv4cC8SXF94akuIFP8A11tfNXHvxWr4c/aR%2BAnitxDovxc0FpicC3uNQSCXPp5cpVv0rpNF8ZeEfEgB8PeKdOvs9Psd6kn/AKCTTPEfgTwR4wjMXi3wdpWqKRgrqOnxzjH/AANTXsUZ4itTU6FaFSPeyt/4FCTRoqeaQXuVYTX96LX4wl%2Bho2t3a3sC3VlcxzROMrJE4ZT9COtZXin4dfD7xxGYfGvgTRtYQjBXVNLiuAR6YkU1yN1%2ByV8AXna80nwKdHnY5E%2BgalcWDKfUCCRR%2BYqP/hnnXdK/eeD/ANojx7YMv3I73U4dQiH/AAG5idj/AN9Vr7XHR%2BKkn/hkvykl%2BZNSeOlDlrYeM15Ti1904oo6l%2Bwx%2Byhf3bX9p8GrDSrhv%2BW/h65n01h9DayR4qD/AIY%2BsdM/5Ev9oj4raGq/6qCDxm93EnsEvEmGPatX/hCP2odG%2BfSPjroOr46Ra74P8vP1e2nT9FFH9tftbaR8974D8C60o7adr11Zu34SwOB/30aPrjXx0pr5X/8ASZP8jy3gMmTvLASg%2B8YW/GjUj%2BRlf8KS/aj0n5fDf7Zt1PGv3IvEXgWwuuPQvB5DH65o/sz9vPSP3dt4s%2BFOtovR7zR9RsJG%2BpjmmUfgtav/AAuD416d83iD9lvWNg%2B8%2Bj%2BIrC7/ACVpI2P5Uv8Aw0rb23/Ia%2BB3xHsQPvM/hRp1X8bd5BR/aGFXxNr1jJf%2B2i9llMPhr1qf/b9Zf%2BlwmjJ/4T79tjRfl1T9nTwZrOOr6L8QJIM/QXFmP1Io/wCF%2BftFaf8ANr/7E/iIIOr6T4s0q6/IGaNj%2BQrW/wCGt/gbB8ur65qumv3TU/DF/Bj6loMfrVmx/au/Zu1A7YfjT4fQ%2BlzfrDj6%2BZjFNZhgG7e1j/4El%2BbQ1PDXtTzNrylKi/8A0qEWYH/DWWr2vy6x%2Byb8XLYj7xi8N21yv4GC5cn8qX/hs7wTb/8AIa%2BEHxT04dzefDbUcD8UjYH8K7ex%2BN3wY1PB074u%2BGLjPTydft2/k9a1p4z8H3%2BDY%2BK9Nmz08q%2BjbP5Gt416E/hmn6NP8mdUIY%2Bf8PHxl/3DpP8A9JqI8y/4bp/Z1h41PVvEti3dbzwDrCY/H7KRR/w3p%2Bygv%2Bv%2BKbQ/9fOgX8X/AKHAK9dinhnXfBMrj1RgadWpt7DPemIpv/uE/wBKp4//AMN9fsfD7/x10pP%2BusM6/wA4xSj9vn9jg/8ANwWgfjK4/wDZa9fpCqnqAfrQHsc//wCf1L/wXP8A%2BWnkJ/b6/Y4HT9oHQT7LJIf5LR/w3x%2ByEf8AV/G7TpP%2BuVpcP/6DGa9fAA6CigPY5/8A8/qX/guf/wAtPIP%2BG8/2Vm/1HxIup/8Ar28MalL/AOgW5o/4bk%2BA0/8AyCF8X6gewsvh7q7Z/wC%2BrYV6/UVxfWVoM3V5FEPWSQL/ADobS3B0M9triaa9KT/Wqc38LPi1o3xb0661TRPDHiPTYrWYRkeI/D1xp7S5Gd0azqpdfccZ4riPjlZXvhf4leGviJpGpSQwjW7SHWPL8TXRnkSRvJWCKwJNuyNuBdhtf5SQCea9JvPiB4D0/P2/xtpEGOvnalEuPzauT1f4h/sqQeJY/Gmt%2BNfAH9tQIEh1SfULI3aKM4VZCd4AyeAe59axliMPD4pperS/UzxsY1cFGlVrw500%2BZtQ2d7pKT9LXs9btXPNPjveaGfHut69fXNpL4gktNIl%2BGN0joZp2S4/0m3s27uzHDqhyUk%2Bb5Rxn6h4MvNe8UXfw/0bw9Onil7rxJF4gvPsDRpc2V3EzxyPMQFdJG8pEGSVOQAApx6q37V37MmlKtla/FjRWEa7Y4dPLTYHoBEp/Sk/4aw%2BEd18ugReJdXbsumeDtQkz9CYQD%2BdY/2jgP8An7H5NP8AK54tbB5TWrynPFw953aVm9dXqnJ832VK11D3WmUfgDBrGo%2BMdT8UP4S1PRbV/D2l2d7Bqemy2pmv4oysm1ZFXzBGoWPzVyjDGxmAzW/8U/hR42%2BIurW02ifHzxN4U0%2BK28u4sPDtvZhp33E%2BZ500EjqcEDA44zjOazv%2BGi9QvPl0L9nn4jXbH7pm0KO1U/U3EyEflSf8LR/aE1D/AJA/7MMkCt92TWfGFpDj3KwiU/hS%2Bv4Z/C2/SMn/AO2o9OlLLVgvq0pTqK924xqK7vf7CjZeSlZ633Mr/hi3wDqny%2BPPil8SfE6H70Os%2BPr1Yj/wC2aJR%2BAFaPh79i39lLwxP9r0/wCAnhuefOftGqWAvZM%2Bu%2B43tn3zmpPtH7XuqfNFpvw80ZG6Ca5vb6RfwVYVJ/Gj/hWv7Rmq/Nrn7SUNkrffh0Dwhbx4HoHuHlP44FH1ucvgozfyUf8A0qX6GcMDlKlzU8vcn3lCN/vqzmzv9E8O%2BH/DVoLDw5oVnp8A6Q2VqkSD8FAFW9y7tm4biMgZ5xXmv/DNNlqP/I3/ABl%2BIGsq3%2Bshm8TPbRP7bLVYhit/4f8AwN%2BFfwu1KbWvA/hJLS9uYPJuL2S5lnmkj3BtrSSuzEZAPXtVwqYuc1zU1Fecrv7krfiexQqY1yUfYxhD/Gm0vJRjb8UUvjX4g%2BIHhHSo/E3hC8aSG3I87T4dENyZCMszSyB8xRBAclULZxgnIWq/xO0LxD4lvdI8Y%2BHb22u9KtrOSW6tbnxLc2FtIDsdJf3IIlxjpJhcE5NXfitLpup6hpHg7Ub7V4odSnaO7Gl3ghBibEYEpwWKszBcKQcnrisvxxp%2Bh2BvNMHgzR73SfD1hBqNzYarZG4JXDoDDvYrFsSJudpyVxxnNeNjsxwtJ1%2BaTai4ppXbjLlc9u3InKW%2BkXo3oYYjD1atSor%2B6%2BW2r0ktdLJ6d11tscffana65rsPjOLQLu31zX7rRtU8MTSWTGZYpIxDNAXAIURJ5hkQkDDFsEtz03w58HeK9H8VaFo134ZubO38L2l/aSaoXj8i7tnl/wBFjjwxZv3YVmyoCMhHOauXPiDxfG81zp2uSFLvUL3S7XT1gjAtXSNzA0eFzuAQk7iwPGAAKvfC2/hOpfYtH1WW7srrRba/cTXbTmGZ/lI3OSw3bWJUngg9M152EzPD1sxhS5XeT3fKuradldvmcW2004qyku2NDLYxrKcpXd09ElfW%2Bu%2B8tbqzSsjoPE3w98CeNbyz1Dxh4O0zVZtO3mxfUbJJvIL7dxXeDgnavPsK1IYbTT7UQwRRwQxLhURQqoo9hwBWN4w0LxF4jmgs9A%2BIM%2BipGrG8SztIZJZQcbcNID5eOeQDnPbHOOnwF8D3bibxbdat4hkByG1zVZZlH/bMFY//AB2var4rMViZRweFUu85VIRi3btGM6jttqlr5anrcihUcowSb3eiv66XfzOL/aYuLe7%2BNH7N9zazpLG/xlvikkbBlYf8IV4o6Eda9prxL9o7TNN0b4wfs26XpFhDa20Hxkvlht7eIIiD/hCvFHAUcCvba9en7T2a9pbmsr2va/W19bX2vr3NlcKKKKsAooooAKKKKACiiigDmPDnxt%2BDHjH4g6z8JPCPxd8Mar4r8OIr%2BIfDOm6/bT6hpatja1xbI5kgB3LguozketFh8bfgxqvxSvfgbpfxd8MXPjbTbJbzUfB9vr9s%2BqWtsQhE0loH85IyJI8OygHevPIr44/Z48PeM/Bnxs8AaB4g%2BEHjXTtS%2BGnir4j3nj7xM3gfUWtNRttZ1l3tPs10kBTUftjz2t6y27S%2BQtoxuPJaMCrvw18AfEGD9p7wh8OLj4UeKLfXfCn7Svjbx14m8Y3Hhm6j0q78OajpetxWPl6k0Yt7qQjUtJtTapI0qfYGZkVYEJAPe/28P%2BSIaH/2Wb4cf%2BprolL%2B0p%2B1D8JP2ToV1PWr7U9b8Ua9ILfw54C0e5a4vtWuXYbRFBklFzwZCNoBwAWKqan7bPwf/af%2BMPhTRdL%2BAHirwEttpPjDw3ruoeHPGGm3sL6q2l69Y6mY49UtpZBYhktCuWsLrcxA%2BQNuX57/AGGvhf8AtL6WfEX7Qumfsp/CnxJ411Hx74m07VPGviz43aidRaWx1i70yVIvL8MMkMO60YL5e0shBKpny01o4PJsRVjXx8XJ0mpQirpuVmviTXKrfFpJtOyjfVcWMqZmoqlg7R57qUnryrTaP2pPpqoq15O2j9THgL9sT9pxNG8T/tDeCdF8C6Ro/iOHU9P8GaTrRvrq5VUZUS8lWIxja7hyY2AKqUKAFife/GT6XPY20k15ZL9mVplsbnI88BSNq8qcg9ODzjivP/8AhOP%2BChf/AEa/8Gf/AA/Grf8AzL0j%2BNf%2BCg8mBJ%2By58GGwcjPx31Y4Pr/AMitXy2dcPQzSpi6lOSj7dRXK03CPK%2BZOOvNvZ8spSi%2BW1lGUkd%2BAf1KEU25NbybXNLS2uiS0utEvvSZ391qN6Lgz2t3NAtrPbQQWYYEOWAdw%2BcknY2BzxjNWtL1u/1C9gF75L2uoJM0MAi5RUbCknJ3Bl5PAwSK8tfX/wBvaTUl1d/2UfgqblRhZv8Ahe%2BrZHGP%2BhX64JGfeotK1X9vvSJzPb/sxfB5yE2RLL8e9WIhTOdiD/hFuB/gPSvJoZHxDhsxjNVr03O7tJpWT0bi00%2BaF6fs4WhG0Za2TO2VfDTpNcutu36%2But3q9j1LWvhB8LfELGTV/h/pMrnrMtkiSf8AfSgN%2BtZv/CifC1l/yLPiLxHow7JpviCfZ/3xIzr%2BGK8Ym%2BOX7dnjL4y638Drb9mj4Z2Oq%2BGPDGk67dXlr8ftUjglg1K41K3hRT/wjBLOraVOWDKABJHgsSwXr9M8Wf8ABRCwsY7Of9m74P3TIDmef48arvfknnHhYD26dq9SeS5dicynGrl0FG11VTgnJ6XTUFTqRe%2Brk07eaOGVGg4KV1ftZr8djuP%2BFffFDTuND%2BN926D7ser6Nb3H5sgjb9aNv7Qun8CTwhqar3Zbm0dvy8wZrjv%2BE4/4KF/9Gv8AwZ/8Pxq3/wAy9H/Ccf8ABQv/AKNf%2BDP/AIfjVv8A5l66P9XsND%2BBWrU/8NabX3T9ojL2a6N/f/w52P8AwnHxesv%2BQl8EjMB959M8QwSZ9wsojNH/AAuWS241f4T%2BMbUj7zLo4nUfjC71x3/Ccf8ABQv/AKNf%2BDP/AIfjVv8A5l65fVv2jv27dH%2BM%2BgfA64/ZQ%2BEjap4i8L6vrtncp8ddU8iODTrnTbeZHJ8Mbg7NqkBUBSCEkyVIUMf2Xm1P%2BFj5/wDb9OjP8lTYcs%2BkvyPWv%2BGgvhdF8up6te2Dd11DRrqHH1LR4/Wtrwp8RPA3jlpU8IeKbPUGhUNMltMGZAehI6ivM/8AhOP%2BChf/AEa/8Gf/AA/Grf8AzL0xPF//AAUCilaeP9lf4LK7j5nX466qCfqf%2BEWrfDUc9p117evTnDranKMvk1UlH70NKonq193/AAT0Px7421Lw7JBY%2BH9PjurgzQG780NshhklEYJx/ExJCj254qv8QNfgtLqWyi8K6fqLWenPf6h9vwAlupIwvyNuc7WwDgcckV5R4u0v9tjxrNFd63%2ByH8EHuY5on%2B1/8Lw1TzWWNwwQt/wi2dpxgj0JxioPElr/AMFFPEB3j4A/BuBrnT2sNTcfG3VCbm2Yk7R/xTA8tgGYBhnG48dK83HUuIubEum7qTjycrWiSndWkrJt8jk7yTSla2icTjOSaeq/ruegXul/CTV9Yjivfgn4dudNku47SS/udNt2dZnj3geWYyCo6MxYEHoCOao%2BH/hN%2Bzp401D7Jdfs7eHbNLi2NzYTHRrdftMW7aWwigoc4O09iDXkfxg%2BI37d3wd0208aeJP2Z/hFcaHeeONDsE0ux%2BNeqGYXuqX9rpEDGRvDajyFmvElcBd4CsVLYCHrfCaf8FFfD13a3Wofs9/Be8%2BwaYtlaBPjbq0RC7ss7H/hGW3McL0wODxzxzUMLncsbH29OLhza3jStbVPpzKNrOH2ua/NocssDhakvfowfrGH/wAiegy/shfs0ytv/wCFO6Qh9YY2j/8AQWFN/wCGQf2dh/qvh55f/XHVrtP/AEGUVxfi67/4KIeLIoI4fgZ8MdJMDMd%2BkftA6pGZM44bd4UbIGOPqaw/%2BEc/4KTR/wCo8F%2BCB/10/aAvW/n4Pr0MVSnRruNLLo1I/wAylRjf/t2STVttyJZTll9MND/wGK/RHqH/AAyL8Ah9zwpqCf8AXPxRqK/yuKP%2BGRvgT28P6wPp4w1T/wCSa8v/ALG/4KdL/q/CHw9H%2B98c7tv/AHUK5f42/EL/AIKTfAf4MeLvjj4p8CeA7rS/Bnhi/wBd1K1sPjTcNcTW9pbSXEiRh/CaqXKxkKGZRkjJA5rn5q//AEKn/wCB0P8A5JE/2Vlv/QNH7onvH/DI3wI7%2BHdXP18X6of/AG5o/wCGRPgB0fwfev8A9dPEuoN/OevL/wCyv%2BCoZ%2B94T%2BHP4fG26H/uo0f2J/wU2b/W%2BD/h%2Bf8Ac%2BOt2v8A7qFHNXe2VP8A8Dof/JMP7Ky3/oGj90T1D/hkD9nJv9b8NIZf%2Bu%2BoXMn/AKFKalt/2SP2abU5j%2BDGhsf%2Bmtrv/wDQia8q/wCEZ/4KQvzP4I8FN7J%2B0LfJ/LwhR/wiP/BQt/8AX/DXwa//AHcrqyf%2BgeFBQvrnTKo/OpQ/%2BQY1lWWrbCw/8Bh/8iz2az/Zy/Z%2BsMG2%2BCPhQEdGbw/bsfzKE1r2Pww%2BGml4/sz4eaFb46eRpEKY/Ja8C/4Qb9uuT/j9%2BCHgW59RP%2B1B4g/p4ZFcv8Eb39pv49/Bjwh8ctB/Y7%2BGg03xn4X0/XdOt9Z/aT19p4re7to7iNJVXw8yBwsgDBSwyDgkc1tGWcr%2BHgKUfWrH/wBsoM3hhMPT%2BCjBeiivygfXSJpWjw7UW3tYx2AVF/pVC9%2BIHgPTc/2j420i3x18/Uokx%2BbV8/wfDb9qOB/MH7DXwIkb1uPjpq8p/wDH/DBrTstG/a/07BsP2HP2fYSO8fxj1AH8/wDhFa2U%2BJ5bU6EPWdWX5QgdK9olZJL7z1a8%2BPXwasm2SfEjSpD2FvciUn6bM5qA/HzwBccaNFrWpN2XT/D13Jn6HywD%2BdcPZ%2BJv2%2BdPXbYfsn/BKAekPxz1Vf5eFqn/AOE4/wCChf8A0a/8Gf8Aw/Grf/MvR9X4lqfFiKUf8NKUvxnVX4oLVe6%2B7/gnY/8AC3NavPk0T4M%2BLJ2PQ3VrDaqfxllBH5Uf8JZ8bdQ%2BTT/hHYWWekmqeI1OPqsMb/zrybwD%2B0d%2B3b8RPFfjfwho/wCyh8JIbjwH4oi0LVZLn466oEnnk0rT9TDxbfDBJTydRhUlgp3o4xgBm6j/AITj/goX/wBGv/Bn/wAPxq3/AMy9H9lZnU/i4%2Bp/25ClD/2yb/EOST3l%2BR2P9n/tA6l8l14l8LaUp72emz3Tj8ZJEB/Ktfwj4a8YaNdy3fin4iXGs%2BZHtSBtOht44jnO4BBuJ7csa83/AOE4/wCChf8A0a/8Gf8Aw/Grf/MvR/wnH/BQv/o1/wCDP/h%2BNW/%2BZet8PkuHoVo1pVas5Lbnqza/8BXLB/OLGoJO93953vjf4Yx%2BL7t9Sh8S6jZzsLfCW9xti/cyF1JCgNkFmxhhgnNReP8AwiNQsHuzfz/bbiJrNktdqLdwEs3kyBg%2BVCl8sMNgtyMmvPr3xT/wURu7m3nj/Zy%2BEECwOWeKH48aptm9mz4VJx9Mda5YfHT9tvxl8Y9c%2BBNz%2ByT8JW1Lw14a0jX7m5f486stu8Go3Gp20KIV8M7i6tpk5cFQuJI8FiWC%2BbmeSLF4bGQw9FRqVLJSc9JO3xpLm5XHmmleOr6OLae1OFCNSMp6rqtf81%2BHQ9r1LwvZXU9h4y0HS51u5TG8xtJFztMW3eElPl7wuF3kbscZqtMmkxST6jpoNgRaSTAxgRNJcxSESmQJgSPwAc54PHWvPdP1L9v3TtKTRrf9mb4QLAihVWL4%2B6vGRyTkFPCwIJzzzViPXf29IrSOx/4ZO%2BCjxRNujWX47as%2BGzndlvC5Oc9%2BteHX4WzTHR53y05TjBzV24qqo8rcOTllFNtzk7rmlGGmjOyFfDUX7qvZu2iTs%2B9769PS56FaDZrce63KajJqXmFxGcvbuis2W7qOVHPBUCum1Wzur%2Bxe0tNTltJGxi4hVSyjPONwI5HH415D/wAJx/wUK/6Nf%2BDP/h%2BNW/8AmXo/4Tj/AIKF/wDRr/wZ/wDD8at/8y9fR5Vw/Ty7C18POblGq9bXg7NNN3jJPnfM%2BaacW7R6q5jWxLqzjJKzXz/Pp5EP7SNo1j8Yv2bbR7ua4MfxkvgZp2Bd/wDiivFHJIAGfwr2yvlf4n%2BJf2rdX/aT/Z0tfjX8F/h74f0cfFzUWjvvC3xOvtYuTP8A8IX4m2oYJ9FslCEFiX80kEAbDklfqivepUoUaUacFZRSS3eiVlq22/Vtvu29TnbcndhRRRWggooooAKKKKACiiigAqj4o8Q2HhLw1qPivVQ5tdMsZru5ES5by40LtgdzhTV6o7u0tb%2B1lsb23SaGaNo5opVDK6kYKkHggjjFAHzf%2Bxr%2B1L8fPip4w0bwr8f9N8JI/jf4T6d8QPC6%2BE9Pubf%2By7e4lCT6ZdNPcTC6khE1ptu4xAspeX9xFsG7ybR/%2BCjvxy8FfC/TfilrPgLwPPpnxV%2BF%2Bq%2BOvhNoujabc2T6bN/aulW1va6rM1xKt01w2v2U8s8MUGxo7obHJRz79%2Bz/APsL%2BEP2c9Ytda8J/GXx1qkmmaLp%2BgaGniC5064GmeH7IzGDRoStkjG33TAtNIXvJPIhD3LCMCsHSf8AgmN8CLTRtb8K674z8Za1ol74S1Hwx4W0fUdStki8G6Te3UV3PbaW9vbRzJ%2B/trN0kuJJ5I/sNuqOqx7SAdh%2By78Xfiv4x8S/EP4P/HK58PX3if4eeJbWxm1vwrpE%2Bn2OqWl1ptrfQzLaz3NzJbupnlhZDPID5AkBAk2J67Xn/wAAf2fNI%2BAtn4guT4%2B8Q%2BLte8Wa4NW8TeK/FbWn27UbhbWC0i3LZW9vbxJHb20EapFCi/IWILu7t6BQAV8u/Ab9sb42/ED4xeFpPG2meFl8B/EzWvF2meCrPS9NuYtV0uTRbuWKGS8uHuXiulu7e2uZiscMBt28uPM%2BTIPqKvDPB37BngbwF8S5PiR4X%2BLvjeAWt7q934V0CSfTpNP8MT6rfJe6m9kj2RkJuJFdf9IefyY55Ut/IVsAAp3vxU%2BOXgP9trw18KvEOo%2BAde0zx9a6rKumeH/C91a634f0iwjaS3vr28e8lju4DPMtttFvb7Zr5dhcLJnJ/wCCa/7U/wAXf2lvhfb6j%2B0X4n0S08fnwpomreI/h7a/CfW/CV94YmvLd3lili1e7nkvofOSWGO6iWOJmtZcFzkJ1fw//YxPw6/aE8Z/tD6X%2B0x8RLy88dXZl1rQ9Si0KW0jiSB4bW0gm/swXsNta72khhFzsEjyO4kaaYybfwY/ZjtfhT8QdZ%2BLfin4y%2BMPH/ivWtHtNIk17xj/AGbHJbafbSzzR20MOm2dpAi%2BbcSuzmMyOSoZyqIqgHp9FFFAHy7%2B01%2B2N8bfhX8U/GL/AA80zws3g34TaL4b1Px3bazptzNqOsR6pfXEU0djNHcxx2jW1rb%2BeGkiuBPJKIsQhTIZv2uP2lfiZ8E/2mPCekrq/h7wl4EbwpcXWu/EHxF8ItZ1%2B3tJmv7aL7HJqFjd29vo8UkY8wzXRMeYkJ4TFdt8Z/2Ifhx8bvikfiZrnjnxVpcWo2ukWvi/w1o11app3imDS72S9sYr5ZbeSYLHNNLn7PLAZY5DFMZYwqCX44fsjT/tB%2BDm%2BGnxD/aT%2BITeFdS0WTSfF/huxTRYbfxPaSMwmiu5BpvnxCSJ2hf7JLb5jOOG%2BagDz7/hsb42f8NA%2BZ/Znhb/AIVj/wALn/4Vp9g/s25/tv7Z/Zvn/wBqfavtPkeV9t/0X7L9n3eX%2B/8APz%2B5r6irxn/hiH4cf8L/AP8Ahe3/AAnPir7P/wAJX/wlX/CCfarX%2BxP7f/s3%2Bzf7U2fZ/tPm/Zv%2BWX2j7P5v7/yfO/eV7NQAV89fteftE/tAeA/iBB8Lv2cLXwiup6f8Ndd8b6zceMtNubqG6gsJLWKHTYRb3EBgkuHuJM3TGVYBCP3Exkwv0LXkf7S/7Hng/wDaZ1Cy1rUfiT4v8I6hb%2BH9T8P32o%2BDby1hm1LRdQ8g3mnzG5tpwscjW0LCWIR3ERQmKaPe%2B4A5P9qr4%2BePbL9if/hrz4R%2BJvCWk6XYeC18XS6V418BXOuyahi3ju7K2t47fUrLyrkzeWqHMhMjR7QpAJ5TUv2q/wBqL4fftK%2BDvhF8e/EfhDwboVx4A8G3Ov69/wAKi16/03WfFGo32pWmo6Xa6xHfrZaSFe1sVt0u/OkZtQjGZSVU%2B1eN/wBmDwX8Qvh5pHwp8TeJNZfw/oni3StcsdLt/skMWzTbyG8stOYJbjdZxy28B2n94yxBXkYFt1T41/stQfHvxNZ3Hjf43%2BNY/Clvfade3nw7sDpkek6jPZXSXULzSmya%2Bx50ULPHHdJG4iCspVnVwD1SiiigDxf/AIKC/F344fs/fsj%2BNPj18Ar3wpHrHgnQrvXLqDxhotzfW13aWttLM9uiW11bMkrsiKJC5VAWJR%2BBV39sH4n%2BLvAng7w14F%2BHumaDca98R/GVr4U02XxVpsl7plqs8M9xczXNtHLC1yi2lrc4hEsfmOUUuoJI1P2sf2cbL9rT4Ea9%2Bz7rXxV8U%2BEdJ8T2Utjrl/4QXTvtdzZSxPFNbbr%2B0uo0R1flkRZAVG115zneN/2VpPiV8OrPwR48/aC8dajqek6np2qaB4xMWjwanpOpWZJW8hEGnJbM8gZ1kSWCSFkkdPLCsVIB8%2B3v7fn7Vfibw1qGgfDnQvAEHi74f%2BGvGmr/ABAk1fSb2Sw1d/D%2BsSaZFa2CJdo9kL4wTT%2BdK9z9kGxDFcklh9i%2BBPF%2Bm/EHwRo3j3Ro5Us9b0q31C0SZcOsU0SyKGA6HDDNeC%2BI/wDgmT8Idc8D6d4M034sfEDRZo9J1/S/E%2BvaRqdkl/4rstbvPt2rQ37yWjoDcXW6XzbVLeWAyOLd4FYrX0Rpmm6fo2m2%2Bj6TZR21raQJDbW8KBUijUBVRQOAAAAB7UAT1zXxik%2BJsPwy1if4Oa1oOneJYrXfpl74m0qa%2BsYirAuZYIJ7eSUeWHwqyx/MVy2M10tYXxM8Hap8QfAep%2BC9G%2BIOs%2BFbjUbfyU8QeH4bOS8swSCzRLe29xbkkAqfMhcYY4AOCADgvgJ8UfjB%2B0N%2BxH8P/jX4fufDWj%2BNfHHw40TXGlvNKuLjS7O8vLKC4lP2ZbhJpIlMj7Y/PViAoMnVq8Bvf2zP2o9B%2BDmnp4C0jwrdQaP8c7vwJqHjzwd8Gtd17R5NCs9Eurl9RtNE029a6jWLUYU0lyLmWJJYJWztKhfYfCX7DU/gz9ktP2PNJ/a3%2BK66Da%2BCE8K6Vr8M%2BiW2sabYxokUTwXFtpcarMkCCFZShO0lzmXEo0fB/wCyN4m%2BHvwQ0n4G%2BAf2vPiNolroVwi6Tq%2Bl6J4VhuLWwS3WCPTUhXRPsa2ybQ6kW/nBjjzdmEAB6F8HfG%2Bm/Er4T%2BGviBpHjjSPE1vrOh2t2niHw/aNb2OpF4lY3EETyytDG5JZY2kkZAQrOxBJ6SuX%2BCvwh8G/AP4U6D8HPh/FcrpHh7T0tLNr65aaeUDJaWWRuXkdizs3dmJwOldRQAV4v%2Bxz8Xfjh8Srr4peDvj9e%2BFLvWfh/wDExvD1tfeD9FubC1uLVtG0rUkLRXN1cuZFbUHjLhwriNWCJkivaK8X%2BBP7HmsfAnxp4v8AGtp%2B1l8SvEcnjjxXD4g16x8Q2nh0QPdpa29mQn2TSIHSN7e0tomAfOIQylXZ2YA8M8Eft/8AxV8GfDf4xfET4vQ%2BGrbxd4b0vxBrGifDBvhRrXhm%2Bv47K/fT7K8bUr%2B6ki1W3kjXT1kubWHZF9piyQNiH3n9mT4ufGPxH4%2B8f/Av4/3fhnUPE3gW60yZdc8IaPcadY6hY39p5sTfZri5uXhlSWK5iYec4ZY45Bs3mNMzXP2CPA3xE1XxBqvx6%2BMHjn4hnXPBOr%2BErSDxJPp1smi6TqckD3sNp/ZtlanzHNpaYnmMsyfZk2upLlux%2BAH7OelfAY%2BIdYuPiR4m8aeIvFeow3fiDxZ4wkszfXfkW0dtBFtsra2t44o4owFWOJcs8jtueR2YA9EooooA8X%2BCvxd%2BOGtftcfFn4C/FS98KXWj%2BGNC8Pa54Qn8P6Lc2tzFaalc6zD9nvHmupluJUXTIm8yNIFzK42HANc/4k%2BIn7S3hX9vzwX8INM8VfDnVfDni7SNY1jxDZwfD68t9Z0vQdORIrffqP8AarxSyHUNRt1VWtFVka6KqpUmug0X9jzWNA/aL8YftJad%2B1l8ShqHjPSrLTL3QntPDp0%2BztLOe6mtIoB/ZHnjyje3ShpJpGZZjvLlUK9ppfwL8K6X8cPEv7QKatqc2v8AiTwxpugN580Zh06yspbuZFtlEYKM8t7K8jMX3lIhwI1AAPHv%2BCcX7U/xd/aP8C%2Bb%2B0X4n0Sy8d/8IzpGq6z8PLf4T634UvvDjXUcpkWRdXu5n1GAyo8Ud1AkcRa2l5cnCfSteXfBv9l%2B2%2BFvxF1T4v8Ai340%2BMviD4p1LRLfRk1vxkdNjez0%2BGWSYW8MWm2VpAoaWVnd2jaRiEBfaiqPUaACvB/2tfjN%2B0F8BvEnhfxd4M8QeCL3w9rXi7QvDtt4FvvDl5JrmuXN7fLDctaXsd6sUJgtWkutjWkw8u0mZ3jQF4/eK8Z%2BJP7HK/ET9p3RP2prf9o74gaFqvh/QxpWmaBpkOiXGlwQPN5ty0aX2mXE0MtyBHHNLFKjtHDGisgHIBwv7bH7UPxm%2BFvjLxBZ/Brw54Ouk%2BE/wpuviV4mHizSp7mbUYVa6hi0%2BwkiuIRYzyw2uoKbtxOqbo18l1dyKuk/ts/GLWvjZa67Y6d4XPwqu/i%2Bnw6hsW0u5GuG5bSxcjVDc/afIEX2wi2%2ByfZ93l/v/Pz%2B5ruPjp%2Bwj4K/aDaKbxt8YPHFtNd%2BF7vwx4vn0i406BvFehXMwlk0y%2BH2IqsX30WS2FvOiTShZR5jk2o/2HPhpD8e1%2BOEPjXxQlonikeKF8BLc2g0NdeGm/2aNTCfZvtPm/ZuPK%2B0fZ/M/feT537ygD2iiiigAooooAKKKKACiiigAooooAKKKKACiiigAooooAKKKKACiiigAooooAKKKKACiiigAooooAKKKKACiiigAooooAKKKKACiiigAooooAKKKKACiiigAooooAKKKKACiiigAooooAKKKKACiiigAooooA//2Q%3D%3D\">"
      ]
     },
     "metadata": {},
     "output_type": "display_data"
    },
    {
     "ename": "KeyboardInterrupt",
     "evalue": "",
     "output_type": "error",
     "traceback": [
      "\u001b[0;31m---------------------------------------------------------------------------\u001b[0m",
      "\u001b[0;31mKeyError\u001b[0m                                  Traceback (most recent call last)",
      "\u001b[0;32m/usr/local/lib/python3.5/dist-packages/matplotlib/animation.py\u001b[0m in \u001b[0;36m__getitem__\u001b[0;34m(self, name)\u001b[0m\n\u001b[1;32m    169\u001b[0m         \u001b[0;32mtry\u001b[0m\u001b[0;34m:\u001b[0m\u001b[0;34m\u001b[0m\u001b[0m\n\u001b[0;32m--> 170\u001b[0;31m             \u001b[0;32mreturn\u001b[0m \u001b[0mself\u001b[0m\u001b[0;34m.\u001b[0m\u001b[0mavail\u001b[0m\u001b[0;34m[\u001b[0m\u001b[0mname\u001b[0m\u001b[0;34m]\u001b[0m\u001b[0;34m\u001b[0m\u001b[0m\n\u001b[0m\u001b[1;32m    171\u001b[0m         \u001b[0;32mexcept\u001b[0m \u001b[0mKeyError\u001b[0m\u001b[0;34m:\u001b[0m\u001b[0;34m\u001b[0m\u001b[0m\n",
      "\u001b[0;31mKeyError\u001b[0m: 'ffmpeg'",
      "\nDuring handling of the above exception, another exception occurred:\n",
      "\u001b[0;31mRuntimeError\u001b[0m                              Traceback (most recent call last)",
      "\u001b[0;32m<ipython-input-42-0420aaa48ca0>\u001b[0m in \u001b[0;36m<module>\u001b[0;34m()\u001b[0m\n\u001b[1;32m      1\u001b[0m \u001b[0;32mtry\u001b[0m\u001b[0;34m:\u001b[0m\u001b[0;34m\u001b[0m\u001b[0m\n\u001b[0;32m----> 2\u001b[0;31m     \u001b[0mdisplay_html\u001b[0m\u001b[0;34m(\u001b[0m\u001b[0mHTML\u001b[0m\u001b[0;34m(\u001b[0m\u001b[0manim\u001b[0m\u001b[0;34m.\u001b[0m\u001b[0mto_html5_video\u001b[0m\u001b[0;34m(\u001b[0m\u001b[0;34m)\u001b[0m\u001b[0;34m)\u001b[0m\u001b[0;34m)\u001b[0m\u001b[0;34m\u001b[0m\u001b[0m\n\u001b[0m\u001b[1;32m      3\u001b[0m \u001b[0;31m# In case the build-in renderers are unaviable, fall back to\u001b[0m\u001b[0;34m\u001b[0m\u001b[0;34m\u001b[0m\u001b[0m\n",
      "\u001b[0;32m/usr/local/lib/python3.5/dist-packages/matplotlib/animation.py\u001b[0m in \u001b[0;36mto_html5_video\u001b[0;34m(self, embed_limit)\u001b[0m\n\u001b[1;32m   1348\u001b[0m                 \u001b[0;31m# appropriate size for the tag\u001b[0m\u001b[0;34m\u001b[0m\u001b[0;34m\u001b[0m\u001b[0m\n\u001b[0;32m-> 1349\u001b[0;31m                 \u001b[0mWriter\u001b[0m \u001b[0;34m=\u001b[0m \u001b[0mwriters\u001b[0m\u001b[0;34m[\u001b[0m\u001b[0mrcParams\u001b[0m\u001b[0;34m[\u001b[0m\u001b[0;34m'animation.writer'\u001b[0m\u001b[0;34m]\u001b[0m\u001b[0;34m]\u001b[0m\u001b[0;34m\u001b[0m\u001b[0m\n\u001b[0m\u001b[1;32m   1350\u001b[0m                 writer = Writer(codec='h264',\n",
      "\u001b[0;32m/usr/local/lib/python3.5/dist-packages/matplotlib/animation.py\u001b[0m in \u001b[0;36m__getitem__\u001b[0;34m(self, name)\u001b[0m\n\u001b[1;32m    172\u001b[0m             raise RuntimeError(\n\u001b[0;32m--> 173\u001b[0;31m                 'Requested MovieWriter ({}) not available'.format(name))\n\u001b[0m\u001b[1;32m    174\u001b[0m \u001b[0;34m\u001b[0m\u001b[0m\n",
      "\u001b[0;31mRuntimeError\u001b[0m: Requested MovieWriter (ffmpeg) not available",
      "\nDuring handling of the above exception, another exception occurred:\n",
      "\u001b[0;31mKeyboardInterrupt\u001b[0m                         Traceback (most recent call last)",
      "\u001b[0;32m<ipython-input-42-0420aaa48ca0>\u001b[0m in \u001b[0;36m<module>\u001b[0;34m()\u001b[0m\n\u001b[1;32m      4\u001b[0m \u001b[0;31m# a custom one, that doesn't require external libraries\u001b[0m\u001b[0;34m\u001b[0m\u001b[0;34m\u001b[0m\u001b[0m\n\u001b[1;32m      5\u001b[0m \u001b[0;32mexcept\u001b[0m \u001b[0mRuntimeError\u001b[0m\u001b[0;34m:\u001b[0m\u001b[0;34m\u001b[0m\u001b[0m\n\u001b[0;32m----> 6\u001b[0;31m     \u001b[0manim\u001b[0m\u001b[0;34m.\u001b[0m\u001b[0msave\u001b[0m\u001b[0;34m(\u001b[0m\u001b[0;32mNone\u001b[0m\u001b[0;34m,\u001b[0m \u001b[0mwriter\u001b[0m\u001b[0;34m=\u001b[0m\u001b[0mmatplotlib_utils\u001b[0m\u001b[0;34m.\u001b[0m\u001b[0mSimpleMovieWriter\u001b[0m\u001b[0;34m(\u001b[0m\u001b[0;36m0.001\u001b[0m\u001b[0;34m)\u001b[0m\u001b[0;34m)\u001b[0m\u001b[0;34m\u001b[0m\u001b[0m\n\u001b[0m",
      "\u001b[0;32m/usr/local/lib/python3.5/dist-packages/matplotlib/animation.py\u001b[0m in \u001b[0;36msave\u001b[0;34m(self, filename, writer, fps, dpi, codec, bitrate, extra_args, metadata, extra_anim, savefig_kwargs)\u001b[0m\n\u001b[1;32m   1197\u001b[0m                     \u001b[0;32mfor\u001b[0m \u001b[0manim\u001b[0m\u001b[0;34m,\u001b[0m \u001b[0md\u001b[0m \u001b[0;32min\u001b[0m \u001b[0mzip\u001b[0m\u001b[0;34m(\u001b[0m\u001b[0mall_anim\u001b[0m\u001b[0;34m,\u001b[0m \u001b[0mdata\u001b[0m\u001b[0;34m)\u001b[0m\u001b[0;34m:\u001b[0m\u001b[0;34m\u001b[0m\u001b[0m\n\u001b[1;32m   1198\u001b[0m                         \u001b[0;31m# TODO: See if turning off blit is really necessary\u001b[0m\u001b[0;34m\u001b[0m\u001b[0;34m\u001b[0m\u001b[0m\n\u001b[0;32m-> 1199\u001b[0;31m                         \u001b[0manim\u001b[0m\u001b[0;34m.\u001b[0m\u001b[0m_draw_next_frame\u001b[0m\u001b[0;34m(\u001b[0m\u001b[0md\u001b[0m\u001b[0;34m,\u001b[0m \u001b[0mblit\u001b[0m\u001b[0;34m=\u001b[0m\u001b[0;32mFalse\u001b[0m\u001b[0;34m)\u001b[0m\u001b[0;34m\u001b[0m\u001b[0m\n\u001b[0m\u001b[1;32m   1200\u001b[0m                     \u001b[0mwriter\u001b[0m\u001b[0;34m.\u001b[0m\u001b[0mgrab_frame\u001b[0m\u001b[0;34m(\u001b[0m\u001b[0;34m**\u001b[0m\u001b[0msavefig_kwargs\u001b[0m\u001b[0;34m)\u001b[0m\u001b[0;34m\u001b[0m\u001b[0m\n\u001b[1;32m   1201\u001b[0m \u001b[0;34m\u001b[0m\u001b[0m\n",
      "\u001b[0;32m/usr/local/lib/python3.5/dist-packages/matplotlib/animation.py\u001b[0m in \u001b[0;36m_draw_next_frame\u001b[0;34m(self, framedata, blit)\u001b[0m\n\u001b[1;32m   1235\u001b[0m         \u001b[0mself\u001b[0m\u001b[0;34m.\u001b[0m\u001b[0m_pre_draw\u001b[0m\u001b[0;34m(\u001b[0m\u001b[0mframedata\u001b[0m\u001b[0;34m,\u001b[0m \u001b[0mblit\u001b[0m\u001b[0;34m)\u001b[0m\u001b[0;34m\u001b[0m\u001b[0m\n\u001b[1;32m   1236\u001b[0m         \u001b[0mself\u001b[0m\u001b[0;34m.\u001b[0m\u001b[0m_draw_frame\u001b[0m\u001b[0;34m(\u001b[0m\u001b[0mframedata\u001b[0m\u001b[0;34m)\u001b[0m\u001b[0;34m\u001b[0m\u001b[0m\n\u001b[0;32m-> 1237\u001b[0;31m         \u001b[0mself\u001b[0m\u001b[0;34m.\u001b[0m\u001b[0m_post_draw\u001b[0m\u001b[0;34m(\u001b[0m\u001b[0mframedata\u001b[0m\u001b[0;34m,\u001b[0m \u001b[0mblit\u001b[0m\u001b[0;34m)\u001b[0m\u001b[0;34m\u001b[0m\u001b[0m\n\u001b[0m\u001b[1;32m   1238\u001b[0m \u001b[0;34m\u001b[0m\u001b[0m\n\u001b[1;32m   1239\u001b[0m     \u001b[0;32mdef\u001b[0m \u001b[0m_init_draw\u001b[0m\u001b[0;34m(\u001b[0m\u001b[0mself\u001b[0m\u001b[0;34m)\u001b[0m\u001b[0;34m:\u001b[0m\u001b[0;34m\u001b[0m\u001b[0m\n",
      "\u001b[0;32m/usr/local/lib/python3.5/dist-packages/matplotlib/animation.py\u001b[0m in \u001b[0;36m_post_draw\u001b[0;34m(self, framedata, blit)\u001b[0m\n\u001b[1;32m   1260\u001b[0m             \u001b[0mself\u001b[0m\u001b[0;34m.\u001b[0m\u001b[0m_blit_draw\u001b[0m\u001b[0;34m(\u001b[0m\u001b[0mself\u001b[0m\u001b[0;34m.\u001b[0m\u001b[0m_drawn_artists\u001b[0m\u001b[0;34m,\u001b[0m \u001b[0mself\u001b[0m\u001b[0;34m.\u001b[0m\u001b[0m_blit_cache\u001b[0m\u001b[0;34m)\u001b[0m\u001b[0;34m\u001b[0m\u001b[0m\n\u001b[1;32m   1261\u001b[0m         \u001b[0;32melse\u001b[0m\u001b[0;34m:\u001b[0m\u001b[0;34m\u001b[0m\u001b[0m\n\u001b[0;32m-> 1262\u001b[0;31m             \u001b[0mself\u001b[0m\u001b[0;34m.\u001b[0m\u001b[0m_fig\u001b[0m\u001b[0;34m.\u001b[0m\u001b[0mcanvas\u001b[0m\u001b[0;34m.\u001b[0m\u001b[0mdraw_idle\u001b[0m\u001b[0;34m(\u001b[0m\u001b[0;34m)\u001b[0m\u001b[0;34m\u001b[0m\u001b[0m\n\u001b[0m\u001b[1;32m   1263\u001b[0m \u001b[0;34m\u001b[0m\u001b[0m\n\u001b[1;32m   1264\u001b[0m     \u001b[0;31m# The rest of the code in this class is to facilitate easy blitting\u001b[0m\u001b[0;34m\u001b[0m\u001b[0;34m\u001b[0m\u001b[0m\n",
      "\u001b[0;32m/usr/local/lib/python3.5/dist-packages/matplotlib/backend_bases.py\u001b[0m in \u001b[0;36mdraw_idle\u001b[0;34m(self, *args, **kwargs)\u001b[0m\n\u001b[1;32m   2053\u001b[0m         \u001b[0;32mif\u001b[0m \u001b[0;32mnot\u001b[0m \u001b[0mself\u001b[0m\u001b[0;34m.\u001b[0m\u001b[0m_is_idle_drawing\u001b[0m\u001b[0;34m:\u001b[0m\u001b[0;34m\u001b[0m\u001b[0m\n\u001b[1;32m   2054\u001b[0m             \u001b[0;32mwith\u001b[0m \u001b[0mself\u001b[0m\u001b[0;34m.\u001b[0m\u001b[0m_idle_draw_cntx\u001b[0m\u001b[0;34m(\u001b[0m\u001b[0;34m)\u001b[0m\u001b[0;34m:\u001b[0m\u001b[0;34m\u001b[0m\u001b[0m\n\u001b[0;32m-> 2055\u001b[0;31m                 \u001b[0mself\u001b[0m\u001b[0;34m.\u001b[0m\u001b[0mdraw\u001b[0m\u001b[0;34m(\u001b[0m\u001b[0;34m*\u001b[0m\u001b[0margs\u001b[0m\u001b[0;34m,\u001b[0m \u001b[0;34m**\u001b[0m\u001b[0mkwargs\u001b[0m\u001b[0;34m)\u001b[0m\u001b[0;34m\u001b[0m\u001b[0m\n\u001b[0m\u001b[1;32m   2056\u001b[0m \u001b[0;34m\u001b[0m\u001b[0m\n\u001b[1;32m   2057\u001b[0m     \u001b[0;32mdef\u001b[0m \u001b[0mdraw_cursor\u001b[0m\u001b[0;34m(\u001b[0m\u001b[0mself\u001b[0m\u001b[0;34m,\u001b[0m \u001b[0mevent\u001b[0m\u001b[0;34m)\u001b[0m\u001b[0;34m:\u001b[0m\u001b[0;34m\u001b[0m\u001b[0m\n",
      "\u001b[0;32m/usr/local/lib/python3.5/dist-packages/matplotlib/backends/backend_agg.py\u001b[0m in \u001b[0;36mdraw\u001b[0;34m(self)\u001b[0m\n\u001b[1;32m    431\u001b[0m             \u001b[0;31m# if toolbar:\u001b[0m\u001b[0;34m\u001b[0m\u001b[0;34m\u001b[0m\u001b[0m\n\u001b[1;32m    432\u001b[0m             \u001b[0;31m#     toolbar.set_cursor(cursors.WAIT)\u001b[0m\u001b[0;34m\u001b[0m\u001b[0;34m\u001b[0m\u001b[0m\n\u001b[0;32m--> 433\u001b[0;31m             \u001b[0mself\u001b[0m\u001b[0;34m.\u001b[0m\u001b[0mfigure\u001b[0m\u001b[0;34m.\u001b[0m\u001b[0mdraw\u001b[0m\u001b[0;34m(\u001b[0m\u001b[0mself\u001b[0m\u001b[0;34m.\u001b[0m\u001b[0mrenderer\u001b[0m\u001b[0;34m)\u001b[0m\u001b[0;34m\u001b[0m\u001b[0m\n\u001b[0m\u001b[1;32m    434\u001b[0m             \u001b[0;31m# A GUI class may be need to update a window using this draw, so\u001b[0m\u001b[0;34m\u001b[0m\u001b[0;34m\u001b[0m\u001b[0m\n\u001b[1;32m    435\u001b[0m             \u001b[0;31m# don't forget to call the superclass.\u001b[0m\u001b[0;34m\u001b[0m\u001b[0;34m\u001b[0m\u001b[0m\n",
      "\u001b[0;32m/usr/local/lib/python3.5/dist-packages/matplotlib/artist.py\u001b[0m in \u001b[0;36mdraw_wrapper\u001b[0;34m(artist, renderer, *args, **kwargs)\u001b[0m\n\u001b[1;32m     53\u001b[0m                 \u001b[0mrenderer\u001b[0m\u001b[0;34m.\u001b[0m\u001b[0mstart_filter\u001b[0m\u001b[0;34m(\u001b[0m\u001b[0;34m)\u001b[0m\u001b[0;34m\u001b[0m\u001b[0m\n\u001b[1;32m     54\u001b[0m \u001b[0;34m\u001b[0m\u001b[0m\n\u001b[0;32m---> 55\u001b[0;31m             \u001b[0;32mreturn\u001b[0m \u001b[0mdraw\u001b[0m\u001b[0;34m(\u001b[0m\u001b[0martist\u001b[0m\u001b[0;34m,\u001b[0m \u001b[0mrenderer\u001b[0m\u001b[0;34m,\u001b[0m \u001b[0;34m*\u001b[0m\u001b[0margs\u001b[0m\u001b[0;34m,\u001b[0m \u001b[0;34m**\u001b[0m\u001b[0mkwargs\u001b[0m\u001b[0;34m)\u001b[0m\u001b[0;34m\u001b[0m\u001b[0m\n\u001b[0m\u001b[1;32m     56\u001b[0m         \u001b[0;32mfinally\u001b[0m\u001b[0;34m:\u001b[0m\u001b[0;34m\u001b[0m\u001b[0m\n\u001b[1;32m     57\u001b[0m             \u001b[0;32mif\u001b[0m \u001b[0martist\u001b[0m\u001b[0;34m.\u001b[0m\u001b[0mget_agg_filter\u001b[0m\u001b[0;34m(\u001b[0m\u001b[0;34m)\u001b[0m \u001b[0;32mis\u001b[0m \u001b[0;32mnot\u001b[0m \u001b[0;32mNone\u001b[0m\u001b[0;34m:\u001b[0m\u001b[0;34m\u001b[0m\u001b[0m\n",
      "\u001b[0;32m/usr/local/lib/python3.5/dist-packages/matplotlib/figure.py\u001b[0m in \u001b[0;36mdraw\u001b[0;34m(self, renderer)\u001b[0m\n\u001b[1;32m   1473\u001b[0m \u001b[0;34m\u001b[0m\u001b[0m\n\u001b[1;32m   1474\u001b[0m             mimage._draw_list_compositing_images(\n\u001b[0;32m-> 1475\u001b[0;31m                 renderer, self, artists, self.suppressComposite)\n\u001b[0m\u001b[1;32m   1476\u001b[0m \u001b[0;34m\u001b[0m\u001b[0m\n\u001b[1;32m   1477\u001b[0m             \u001b[0mrenderer\u001b[0m\u001b[0;34m.\u001b[0m\u001b[0mclose_group\u001b[0m\u001b[0;34m(\u001b[0m\u001b[0;34m'figure'\u001b[0m\u001b[0;34m)\u001b[0m\u001b[0;34m\u001b[0m\u001b[0m\n",
      "\u001b[0;32m/usr/local/lib/python3.5/dist-packages/matplotlib/image.py\u001b[0m in \u001b[0;36m_draw_list_compositing_images\u001b[0;34m(renderer, parent, artists, suppress_composite)\u001b[0m\n\u001b[1;32m    139\u001b[0m     \u001b[0;32mif\u001b[0m \u001b[0mnot_composite\u001b[0m \u001b[0;32mor\u001b[0m \u001b[0;32mnot\u001b[0m \u001b[0mhas_images\u001b[0m\u001b[0;34m:\u001b[0m\u001b[0;34m\u001b[0m\u001b[0m\n\u001b[1;32m    140\u001b[0m         \u001b[0;32mfor\u001b[0m \u001b[0ma\u001b[0m \u001b[0;32min\u001b[0m \u001b[0martists\u001b[0m\u001b[0;34m:\u001b[0m\u001b[0;34m\u001b[0m\u001b[0m\n\u001b[0;32m--> 141\u001b[0;31m             \u001b[0ma\u001b[0m\u001b[0;34m.\u001b[0m\u001b[0mdraw\u001b[0m\u001b[0;34m(\u001b[0m\u001b[0mrenderer\u001b[0m\u001b[0;34m)\u001b[0m\u001b[0;34m\u001b[0m\u001b[0m\n\u001b[0m\u001b[1;32m    142\u001b[0m     \u001b[0;32melse\u001b[0m\u001b[0;34m:\u001b[0m\u001b[0;34m\u001b[0m\u001b[0m\n\u001b[1;32m    143\u001b[0m         \u001b[0;31m# Composite any adjacent images together\u001b[0m\u001b[0;34m\u001b[0m\u001b[0;34m\u001b[0m\u001b[0m\n",
      "\u001b[0;32m/usr/local/lib/python3.5/dist-packages/matplotlib/artist.py\u001b[0m in \u001b[0;36mdraw_wrapper\u001b[0;34m(artist, renderer, *args, **kwargs)\u001b[0m\n\u001b[1;32m     53\u001b[0m                 \u001b[0mrenderer\u001b[0m\u001b[0;34m.\u001b[0m\u001b[0mstart_filter\u001b[0m\u001b[0;34m(\u001b[0m\u001b[0;34m)\u001b[0m\u001b[0;34m\u001b[0m\u001b[0m\n\u001b[1;32m     54\u001b[0m \u001b[0;34m\u001b[0m\u001b[0m\n\u001b[0;32m---> 55\u001b[0;31m             \u001b[0;32mreturn\u001b[0m \u001b[0mdraw\u001b[0m\u001b[0;34m(\u001b[0m\u001b[0martist\u001b[0m\u001b[0;34m,\u001b[0m \u001b[0mrenderer\u001b[0m\u001b[0;34m,\u001b[0m \u001b[0;34m*\u001b[0m\u001b[0margs\u001b[0m\u001b[0;34m,\u001b[0m \u001b[0;34m**\u001b[0m\u001b[0mkwargs\u001b[0m\u001b[0;34m)\u001b[0m\u001b[0;34m\u001b[0m\u001b[0m\n\u001b[0m\u001b[1;32m     56\u001b[0m         \u001b[0;32mfinally\u001b[0m\u001b[0;34m:\u001b[0m\u001b[0;34m\u001b[0m\u001b[0m\n\u001b[1;32m     57\u001b[0m             \u001b[0;32mif\u001b[0m \u001b[0martist\u001b[0m\u001b[0;34m.\u001b[0m\u001b[0mget_agg_filter\u001b[0m\u001b[0;34m(\u001b[0m\u001b[0;34m)\u001b[0m \u001b[0;32mis\u001b[0m \u001b[0;32mnot\u001b[0m \u001b[0;32mNone\u001b[0m\u001b[0;34m:\u001b[0m\u001b[0;34m\u001b[0m\u001b[0m\n",
      "\u001b[0;32m/usr/local/lib/python3.5/dist-packages/matplotlib/axes/_base.py\u001b[0m in \u001b[0;36mdraw\u001b[0;34m(self, renderer, inframe)\u001b[0m\n\u001b[1;32m   2605\u001b[0m             \u001b[0mrenderer\u001b[0m\u001b[0;34m.\u001b[0m\u001b[0mstop_rasterizing\u001b[0m\u001b[0;34m(\u001b[0m\u001b[0;34m)\u001b[0m\u001b[0;34m\u001b[0m\u001b[0m\n\u001b[1;32m   2606\u001b[0m \u001b[0;34m\u001b[0m\u001b[0m\n\u001b[0;32m-> 2607\u001b[0;31m         \u001b[0mmimage\u001b[0m\u001b[0;34m.\u001b[0m\u001b[0m_draw_list_compositing_images\u001b[0m\u001b[0;34m(\u001b[0m\u001b[0mrenderer\u001b[0m\u001b[0;34m,\u001b[0m \u001b[0mself\u001b[0m\u001b[0;34m,\u001b[0m \u001b[0martists\u001b[0m\u001b[0;34m)\u001b[0m\u001b[0;34m\u001b[0m\u001b[0m\n\u001b[0m\u001b[1;32m   2608\u001b[0m \u001b[0;34m\u001b[0m\u001b[0m\n\u001b[1;32m   2609\u001b[0m         \u001b[0mrenderer\u001b[0m\u001b[0;34m.\u001b[0m\u001b[0mclose_group\u001b[0m\u001b[0;34m(\u001b[0m\u001b[0;34m'axes'\u001b[0m\u001b[0;34m)\u001b[0m\u001b[0;34m\u001b[0m\u001b[0m\n",
      "\u001b[0;32m/usr/local/lib/python3.5/dist-packages/matplotlib/image.py\u001b[0m in \u001b[0;36m_draw_list_compositing_images\u001b[0;34m(renderer, parent, artists, suppress_composite)\u001b[0m\n\u001b[1;32m    139\u001b[0m     \u001b[0;32mif\u001b[0m \u001b[0mnot_composite\u001b[0m \u001b[0;32mor\u001b[0m \u001b[0;32mnot\u001b[0m \u001b[0mhas_images\u001b[0m\u001b[0;34m:\u001b[0m\u001b[0;34m\u001b[0m\u001b[0m\n\u001b[1;32m    140\u001b[0m         \u001b[0;32mfor\u001b[0m \u001b[0ma\u001b[0m \u001b[0;32min\u001b[0m \u001b[0martists\u001b[0m\u001b[0;34m:\u001b[0m\u001b[0;34m\u001b[0m\u001b[0m\n\u001b[0;32m--> 141\u001b[0;31m             \u001b[0ma\u001b[0m\u001b[0;34m.\u001b[0m\u001b[0mdraw\u001b[0m\u001b[0;34m(\u001b[0m\u001b[0mrenderer\u001b[0m\u001b[0;34m)\u001b[0m\u001b[0;34m\u001b[0m\u001b[0m\n\u001b[0m\u001b[1;32m    142\u001b[0m     \u001b[0;32melse\u001b[0m\u001b[0;34m:\u001b[0m\u001b[0;34m\u001b[0m\u001b[0m\n\u001b[1;32m    143\u001b[0m         \u001b[0;31m# Composite any adjacent images together\u001b[0m\u001b[0;34m\u001b[0m\u001b[0;34m\u001b[0m\u001b[0m\n",
      "\u001b[0;32m/usr/local/lib/python3.5/dist-packages/matplotlib/artist.py\u001b[0m in \u001b[0;36mdraw_wrapper\u001b[0;34m(artist, renderer, *args, **kwargs)\u001b[0m\n\u001b[1;32m     53\u001b[0m                 \u001b[0mrenderer\u001b[0m\u001b[0;34m.\u001b[0m\u001b[0mstart_filter\u001b[0m\u001b[0;34m(\u001b[0m\u001b[0;34m)\u001b[0m\u001b[0;34m\u001b[0m\u001b[0m\n\u001b[1;32m     54\u001b[0m \u001b[0;34m\u001b[0m\u001b[0m\n\u001b[0;32m---> 55\u001b[0;31m             \u001b[0;32mreturn\u001b[0m \u001b[0mdraw\u001b[0m\u001b[0;34m(\u001b[0m\u001b[0martist\u001b[0m\u001b[0;34m,\u001b[0m \u001b[0mrenderer\u001b[0m\u001b[0;34m,\u001b[0m \u001b[0;34m*\u001b[0m\u001b[0margs\u001b[0m\u001b[0;34m,\u001b[0m \u001b[0;34m**\u001b[0m\u001b[0mkwargs\u001b[0m\u001b[0;34m)\u001b[0m\u001b[0;34m\u001b[0m\u001b[0m\n\u001b[0m\u001b[1;32m     56\u001b[0m         \u001b[0;32mfinally\u001b[0m\u001b[0;34m:\u001b[0m\u001b[0;34m\u001b[0m\u001b[0m\n\u001b[1;32m     57\u001b[0m             \u001b[0;32mif\u001b[0m \u001b[0martist\u001b[0m\u001b[0;34m.\u001b[0m\u001b[0mget_agg_filter\u001b[0m\u001b[0;34m(\u001b[0m\u001b[0;34m)\u001b[0m \u001b[0;32mis\u001b[0m \u001b[0;32mnot\u001b[0m \u001b[0;32mNone\u001b[0m\u001b[0;34m:\u001b[0m\u001b[0;34m\u001b[0m\u001b[0m\n",
      "\u001b[0;32m/usr/local/lib/python3.5/dist-packages/matplotlib/axis.py\u001b[0m in \u001b[0;36mdraw\u001b[0;34m(self, renderer, *args, **kwargs)\u001b[0m\n\u001b[1;32m   1193\u001b[0m \u001b[0;34m\u001b[0m\u001b[0m\n\u001b[1;32m   1194\u001b[0m         \u001b[0;32mfor\u001b[0m \u001b[0mtick\u001b[0m \u001b[0;32min\u001b[0m \u001b[0mticks_to_draw\u001b[0m\u001b[0;34m:\u001b[0m\u001b[0;34m\u001b[0m\u001b[0m\n\u001b[0;32m-> 1195\u001b[0;31m             \u001b[0mtick\u001b[0m\u001b[0;34m.\u001b[0m\u001b[0mdraw\u001b[0m\u001b[0;34m(\u001b[0m\u001b[0mrenderer\u001b[0m\u001b[0;34m)\u001b[0m\u001b[0;34m\u001b[0m\u001b[0m\n\u001b[0m\u001b[1;32m   1196\u001b[0m \u001b[0;34m\u001b[0m\u001b[0m\n\u001b[1;32m   1197\u001b[0m         \u001b[0;31m# scale up the axis label box to also find the neighbors, not\u001b[0m\u001b[0;34m\u001b[0m\u001b[0;34m\u001b[0m\u001b[0m\n",
      "\u001b[0;32m/usr/local/lib/python3.5/dist-packages/matplotlib/artist.py\u001b[0m in \u001b[0;36mdraw_wrapper\u001b[0;34m(artist, renderer, *args, **kwargs)\u001b[0m\n\u001b[1;32m     53\u001b[0m                 \u001b[0mrenderer\u001b[0m\u001b[0;34m.\u001b[0m\u001b[0mstart_filter\u001b[0m\u001b[0;34m(\u001b[0m\u001b[0;34m)\u001b[0m\u001b[0;34m\u001b[0m\u001b[0m\n\u001b[1;32m     54\u001b[0m \u001b[0;34m\u001b[0m\u001b[0m\n\u001b[0;32m---> 55\u001b[0;31m             \u001b[0;32mreturn\u001b[0m \u001b[0mdraw\u001b[0m\u001b[0;34m(\u001b[0m\u001b[0martist\u001b[0m\u001b[0;34m,\u001b[0m \u001b[0mrenderer\u001b[0m\u001b[0;34m,\u001b[0m \u001b[0;34m*\u001b[0m\u001b[0margs\u001b[0m\u001b[0;34m,\u001b[0m \u001b[0;34m**\u001b[0m\u001b[0mkwargs\u001b[0m\u001b[0;34m)\u001b[0m\u001b[0;34m\u001b[0m\u001b[0m\n\u001b[0m\u001b[1;32m     56\u001b[0m         \u001b[0;32mfinally\u001b[0m\u001b[0;34m:\u001b[0m\u001b[0;34m\u001b[0m\u001b[0m\n\u001b[1;32m     57\u001b[0m             \u001b[0;32mif\u001b[0m \u001b[0martist\u001b[0m\u001b[0;34m.\u001b[0m\u001b[0mget_agg_filter\u001b[0m\u001b[0;34m(\u001b[0m\u001b[0;34m)\u001b[0m \u001b[0;32mis\u001b[0m \u001b[0;32mnot\u001b[0m \u001b[0;32mNone\u001b[0m\u001b[0;34m:\u001b[0m\u001b[0;34m\u001b[0m\u001b[0m\n",
      "\u001b[0;32m/usr/local/lib/python3.5/dist-packages/matplotlib/axis.py\u001b[0m in \u001b[0;36mdraw\u001b[0;34m(self, renderer)\u001b[0m\n\u001b[1;32m    297\u001b[0m             \u001b[0mself\u001b[0m\u001b[0;34m.\u001b[0m\u001b[0mgridline\u001b[0m\u001b[0;34m.\u001b[0m\u001b[0mdraw\u001b[0m\u001b[0;34m(\u001b[0m\u001b[0mrenderer\u001b[0m\u001b[0;34m)\u001b[0m\u001b[0;34m\u001b[0m\u001b[0m\n\u001b[1;32m    298\u001b[0m         \u001b[0;32mif\u001b[0m \u001b[0mself\u001b[0m\u001b[0;34m.\u001b[0m\u001b[0mtick1On\u001b[0m\u001b[0;34m:\u001b[0m\u001b[0;34m\u001b[0m\u001b[0m\n\u001b[0;32m--> 299\u001b[0;31m             \u001b[0mself\u001b[0m\u001b[0;34m.\u001b[0m\u001b[0mtick1line\u001b[0m\u001b[0;34m.\u001b[0m\u001b[0mdraw\u001b[0m\u001b[0;34m(\u001b[0m\u001b[0mrenderer\u001b[0m\u001b[0;34m)\u001b[0m\u001b[0;34m\u001b[0m\u001b[0m\n\u001b[0m\u001b[1;32m    300\u001b[0m         \u001b[0;32mif\u001b[0m \u001b[0mself\u001b[0m\u001b[0;34m.\u001b[0m\u001b[0mtick2On\u001b[0m\u001b[0;34m:\u001b[0m\u001b[0;34m\u001b[0m\u001b[0m\n\u001b[1;32m    301\u001b[0m             \u001b[0mself\u001b[0m\u001b[0;34m.\u001b[0m\u001b[0mtick2line\u001b[0m\u001b[0;34m.\u001b[0m\u001b[0mdraw\u001b[0m\u001b[0;34m(\u001b[0m\u001b[0mrenderer\u001b[0m\u001b[0;34m)\u001b[0m\u001b[0;34m\u001b[0m\u001b[0m\n",
      "\u001b[0;32m/usr/local/lib/python3.5/dist-packages/matplotlib/artist.py\u001b[0m in \u001b[0;36mdraw_wrapper\u001b[0;34m(artist, renderer, *args, **kwargs)\u001b[0m\n\u001b[1;32m     53\u001b[0m                 \u001b[0mrenderer\u001b[0m\u001b[0;34m.\u001b[0m\u001b[0mstart_filter\u001b[0m\u001b[0;34m(\u001b[0m\u001b[0;34m)\u001b[0m\u001b[0;34m\u001b[0m\u001b[0m\n\u001b[1;32m     54\u001b[0m \u001b[0;34m\u001b[0m\u001b[0m\n\u001b[0;32m---> 55\u001b[0;31m             \u001b[0;32mreturn\u001b[0m \u001b[0mdraw\u001b[0m\u001b[0;34m(\u001b[0m\u001b[0martist\u001b[0m\u001b[0;34m,\u001b[0m \u001b[0mrenderer\u001b[0m\u001b[0;34m,\u001b[0m \u001b[0;34m*\u001b[0m\u001b[0margs\u001b[0m\u001b[0;34m,\u001b[0m \u001b[0;34m**\u001b[0m\u001b[0mkwargs\u001b[0m\u001b[0;34m)\u001b[0m\u001b[0;34m\u001b[0m\u001b[0m\n\u001b[0m\u001b[1;32m     56\u001b[0m         \u001b[0;32mfinally\u001b[0m\u001b[0;34m:\u001b[0m\u001b[0;34m\u001b[0m\u001b[0m\n\u001b[1;32m     57\u001b[0m             \u001b[0;32mif\u001b[0m \u001b[0martist\u001b[0m\u001b[0;34m.\u001b[0m\u001b[0mget_agg_filter\u001b[0m\u001b[0;34m(\u001b[0m\u001b[0;34m)\u001b[0m \u001b[0;32mis\u001b[0m \u001b[0;32mnot\u001b[0m \u001b[0;32mNone\u001b[0m\u001b[0;34m:\u001b[0m\u001b[0;34m\u001b[0m\u001b[0m\n",
      "\u001b[0;32m/usr/local/lib/python3.5/dist-packages/matplotlib/lines.py\u001b[0m in \u001b[0;36mdraw\u001b[0;34m(self, renderer)\u001b[0m\n\u001b[1;32m    746\u001b[0m             \u001b[0mself\u001b[0m\u001b[0;34m.\u001b[0m\u001b[0m_transform_path\u001b[0m\u001b[0;34m(\u001b[0m\u001b[0msubslice\u001b[0m\u001b[0;34m)\u001b[0m\u001b[0;34m\u001b[0m\u001b[0m\n\u001b[1;32m    747\u001b[0m \u001b[0;34m\u001b[0m\u001b[0m\n\u001b[0;32m--> 748\u001b[0;31m         \u001b[0mtransf_path\u001b[0m \u001b[0;34m=\u001b[0m \u001b[0mself\u001b[0m\u001b[0;34m.\u001b[0m\u001b[0m_get_transformed_path\u001b[0m\u001b[0;34m(\u001b[0m\u001b[0;34m)\u001b[0m\u001b[0;34m\u001b[0m\u001b[0m\n\u001b[0m\u001b[1;32m    749\u001b[0m \u001b[0;34m\u001b[0m\u001b[0m\n\u001b[1;32m    750\u001b[0m         \u001b[0;32mif\u001b[0m \u001b[0mself\u001b[0m\u001b[0;34m.\u001b[0m\u001b[0mget_path_effects\u001b[0m\u001b[0;34m(\u001b[0m\u001b[0;34m)\u001b[0m\u001b[0;34m:\u001b[0m\u001b[0;34m\u001b[0m\u001b[0m\n",
      "\u001b[0;32m/usr/local/lib/python3.5/dist-packages/matplotlib/lines.py\u001b[0m in \u001b[0;36m_get_transformed_path\u001b[0;34m(self)\u001b[0m\n\u001b[1;32m    709\u001b[0m         \u001b[0mof\u001b[0m \u001b[0mthis\u001b[0m \u001b[0mline\u001b[0m\u001b[0;34m.\u001b[0m\u001b[0;34m\u001b[0m\u001b[0m\n\u001b[1;32m    710\u001b[0m         \"\"\"\n\u001b[0;32m--> 711\u001b[0;31m         \u001b[0;32mif\u001b[0m \u001b[0mself\u001b[0m\u001b[0;34m.\u001b[0m\u001b[0m_transformed_path\u001b[0m \u001b[0;32mis\u001b[0m \u001b[0;32mNone\u001b[0m\u001b[0;34m:\u001b[0m\u001b[0;34m\u001b[0m\u001b[0m\n\u001b[0m\u001b[1;32m    712\u001b[0m             \u001b[0mself\u001b[0m\u001b[0;34m.\u001b[0m\u001b[0m_transform_path\u001b[0m\u001b[0;34m(\u001b[0m\u001b[0;34m)\u001b[0m\u001b[0;34m\u001b[0m\u001b[0m\n\u001b[1;32m    713\u001b[0m         \u001b[0;32mreturn\u001b[0m \u001b[0mself\u001b[0m\u001b[0;34m.\u001b[0m\u001b[0m_transformed_path\u001b[0m\u001b[0;34m\u001b[0m\u001b[0m\n",
      "\u001b[0;31mKeyboardInterrupt\u001b[0m: "
     ]
    }
   ],
   "source": [
    "try:\n",
    "    display_html(HTML(anim.to_html5_video()))\n",
    "# In case the build-in renderers are unaviable, fall back to\n",
    "# a custom one, that doesn't require external libraries\n",
    "except RuntimeError:\n",
    "    anim.save(None, writer=matplotlib_utils.SimpleMovieWriter(0.001))"
   ]
  },
  {
   "cell_type": "markdown",
   "metadata": {},
   "source": [
    "# Logistic regression\n",
    "Your assignment is to implement the logistic regression\n",
    "\n",
    "Plan:\n",
    "* Use a shared variable for weights\n",
    "* Use a matrix placeholder for `X`\n",
    " \n",
    "We shall train on a two-class MNIST dataset\n",
    "* please note that target `y` are `{0,1}` and not `{-1,1}` as in some formulae"
   ]
  },
  {
   "cell_type": "code",
   "execution_count": 121,
   "metadata": {},
   "outputs": [
    {
     "name": "stdout",
     "output_type": "stream",
     "text": [
      "y [shape - (360,)]: [0 1 0 1 0 1 0 0 1 1]\n",
      "X [shape - (360, 64)]:\n"
     ]
    }
   ],
   "source": [
    "from sklearn.datasets import load_digits\n",
    "mnist = load_digits(2)\n",
    "\n",
    "X, y = mnist.data, mnist.target\n",
    "\n",
    "print(\"y [shape - %s]:\" % (str(y.shape)), y[:10])\n",
    "print(\"X [shape - %s]:\" % (str(X.shape)))"
   ]
  },
  {
   "cell_type": "code",
   "execution_count": 122,
   "metadata": {},
   "outputs": [
    {
     "name": "stdout",
     "output_type": "stream",
     "text": [
      "X:\n",
      " [[ 0.  0.  5. 13.  9.  1.  0.  0.  0.  0.]\n",
      " [ 0.  0.  0. 12. 13.  5.  0.  0.  0.  0.]\n",
      " [ 0.  0.  1.  9. 15. 11.  0.  0.  0.  0.]]\n",
      "y:\n",
      " [0 1 0 1 0 1 0 0 1 1]\n"
     ]
    },
    {
     "data": {
      "image/png": "[encoded data removed]",
      "text/plain": [
       "<Figure size 432x288 with 1 Axes>"
      ]
     },
     "metadata": {},
     "output_type": "display_data"
    }
   ],
   "source": [
    "print('X:\\n',X[:3,:10])\n",
    "print('y:\\n',y[:10])\n",
    "plt.imshow(X[0].reshape([8,8]));"
   ]
  },
  {
   "cell_type": "markdown",
   "metadata": {},
   "source": [
    "It's your turn now!\n",
    "Just a small reminder of the relevant math:\n",
    "\n",
    "$$\n",
    "P(y=1|X) = \\sigma(X \\cdot W + b)\n",
    "$$\n",
    "$$\n",
    "\\text{loss} = -\\log\\left(P\\left(y_\\text{predicted} = 1\\right)\\right)\\cdot y_\\text{true} - \\log\\left(1 - P\\left(y_\\text{predicted} = 1\\right)\\right)\\cdot\\left(1 - y_\\text{true}\\right)\n",
    "$$\n",
    "\n",
    "$\\sigma(x)$ is available via `tf.nn.sigmoid` and matrix multiplication via `tf.matmul`"
   ]
  },
  {
   "cell_type": "code",
   "execution_count": 123,
   "metadata": {
    "collapsed": true
   },
   "outputs": [],
   "source": [
    "from sklearn.model_selection import train_test_split\n",
    "X_train, X_test, y_train, y_test = train_test_split(\n",
    "    X, y, random_state=42)"
   ]
  },
  {
   "cell_type": "markdown",
   "metadata": {},
   "source": [
    "__Your code goes here.__ For the training and testing scaffolding to work, please stick to the names in comments."
   ]
  },
  {
   "cell_type": "code",
   "execution_count": 178,
   "metadata": {},
   "outputs": [
    {
     "name": "stdout",
     "output_type": "stream",
     "text": [
      "<tf.Variable 'Variable_32:0' shape=() dtype=float64_ref>\n"
     ]
    }
   ],
   "source": [
    "# Model parameters - weights and bias\n",
    "weights = tf.Variable(initial_value=np.random.randn(X.shape[1],1))#,dtype=tf.float32) # shape should be (X.shape[1], 1)\n",
    "b = tf.Variable(initial_value=1e-5,dtype=tf.float64)\n",
    "print(b)\n",
    "s.run(tf.global_variables_initializer())"
   ]
  },
  {
   "cell_type": "code",
   "execution_count": 179,
   "metadata": {},
   "outputs": [],
   "source": [
    "# Placeholders for the input data\n",
    "input_X = tf.placeholder('float64')\n",
    "input_y = tf.placeholder('float64')"
   ]
  },
  {
   "cell_type": "code",
   "execution_count": 180,
   "metadata": {},
   "outputs": [],
   "source": [
    "# The model code\n",
    "\n",
    "# Compute a vector of predictions, resulting shape should be [input_X.shape[0],]\n",
    "# This is 1D, if you have extra dimensions, you can  get rid of them with tf.squeeze .\n",
    "# Don't forget the sigmoid.\n",
    "predicted_y = tf.squeeze(tf.nn.sigmoid(tf.matmul(input_X,weights) + b))\n",
    "\n",
    "# Loss. Should be a scalar number - average loss over all the objects\n",
    "# tf.reduce_mean is your friend here\n",
    "loss = tf.losses.log_loss(input_y,predicted_y)\n",
    "\n",
    "# See above for an example. tf.train.*Optimizer\n",
    "optimizer = tf.train.AdamOptimizer(0.1).minimize(loss,var_list=[weights,b])"
   ]
  },
  {
   "cell_type": "markdown",
   "metadata": {},
   "source": [
    "A test to help with the debugging"
   ]
  },
  {
   "cell_type": "code",
   "execution_count": 181,
   "metadata": {},
   "outputs": [],
   "source": [
    "validation_weights = 1e-3 * np.fromiter(map(lambda x:\n",
    "        s.run(weird_psychotic_function, {my_scalar:x, my_vector:[1, 0.1, 2]}),\n",
    "                                   0.15 * np.arange(1, X.shape[1] + 1)),\n",
    "                                   count=X.shape[1], dtype=np.float32)[:, np.newaxis]\n",
    "# print(validation_weights)\n",
    "# Compute predictions for given weights and bias\n",
    "prediction_validation = s.run(predicted_y, {input_X: X, weights: validation_weights, b: 1e-1})\n",
    "\n",
    "# Load the reference values for the predictions\n",
    "validation_true_values = np.loadtxt(\"validation_predictons.txt\")\n",
    "\n",
    "assert prediction_validation.shape == (X.shape[0],),\\\n",
    "       \"Predictions must be a 1D array with length equal to the number \" \\\n",
    "       \"of examples in input_X\"\n",
    "assert np.allclose(validation_true_values, prediction_validation)\n",
    "loss_validation = s.run(\n",
    "        loss, {\n",
    "            input_X: X[:100],\n",
    "            input_y: y[-100:],\n",
    "            weights: validation_weights+1.21e-3,\n",
    "            b: -1e-1})\n",
    "assert np.allclose(loss_validation, 0.728689)"
   ]
  },
  {
   "cell_type": "code",
   "execution_count": 182,
   "metadata": {},
   "outputs": [
    {
     "name": "stdout",
     "output_type": "stream",
     "text": [
      "loss at iter 0:2.9271\n",
      "train auc: 0.7249945103205973\n",
      "test auc: 0.8013833992094861\n",
      "loss at iter 1:2.4569\n",
      "train auc: 0.9006916996047432\n",
      "test auc: 0.9283596837944664\n",
      "loss at iter 2:1.4204\n",
      "train auc: 0.9594861660079052\n",
      "test auc: 0.9772727272727273\n",
      "loss at iter 3:0.7169\n",
      "train auc: 0.9802920509442249\n",
      "test auc: 0.991600790513834\n",
      "loss at iter 4:0.4684\n",
      "train auc: 0.9895696091348265\n",
      "test auc: 0.9965415019762847\n"
     ]
    }
   ],
   "source": [
    "from sklearn.metrics import roc_auc_score\n",
    "s.run(tf.global_variables_initializer())\n",
    "for i in range(5):\n",
    "    s.run(optimizer, {input_X: X_train, input_y: y_train})\n",
    "    loss_i = s.run(loss, {input_X: X_train, input_y: y_train})\n",
    "    print(\"loss at iter %i:%.4f\" % (i, loss_i))\n",
    "    print(\"train auc:\", roc_auc_score(y_train, s.run(predicted_y, {input_X:X_train})))\n",
    "    print(\"test auc:\", roc_auc_score(y_test, s.run(predicted_y, {input_X:X_test})))\n",
    "#     print(weights.eval(),b.eval())"
   ]
  },
  {
   "cell_type": "markdown",
   "metadata": {},
   "source": [
    "### Coursera submission"
   ]
  },
  {
   "cell_type": "code",
   "execution_count": 183,
   "metadata": {
    "collapsed": true
   },
   "outputs": [],
   "source": [
    "grade_submitter = grading.Grader(\"BJCiiY8sEeeCnhKCj4fcOA\")"
   ]
  },
  {
   "cell_type": "code",
   "execution_count": 184,
   "metadata": {
    "collapsed": true
   },
   "outputs": [],
   "source": [
    "test_weights = 1e-3 * np.fromiter(map(lambda x:\n",
    "    s.run(weird_psychotic_function, {my_scalar:x, my_vector:[1, 2, 3]}),\n",
    "                               0.1 * np.arange(1, X.shape[1] + 1)),\n",
    "                               count=X.shape[1], dtype=np.float32)[:, np.newaxis]"
   ]
  },
  {
   "cell_type": "markdown",
   "metadata": {},
   "source": [
    "First, test prediction and loss computation. This part doesn't require a fitted model."
   ]
  },
  {
   "cell_type": "code",
   "execution_count": 185,
   "metadata": {
    "collapsed": true
   },
   "outputs": [],
   "source": [
    "prediction_test = s.run(\n",
    "    predicted_y, {\n",
    "    input_X: X,\n",
    "    weights: test_weights,\n",
    "    b: 1e-1})"
   ]
  },
  {
   "cell_type": "code",
   "execution_count": 186,
   "metadata": {
    "collapsed": true
   },
   "outputs": [],
   "source": [
    "assert prediction_test.shape == (X.shape[0],),\\\n",
    "       \"Predictions must be a 1D array with length equal to the number \" \\\n",
    "       \"of examples in X_test\""
   ]
  },
  {
   "cell_type": "code",
   "execution_count": 187,
   "metadata": {
    "collapsed": true
   },
   "outputs": [],
   "source": [
    "grade_submitter.set_answer(\"0ENlN\", prediction_test)"
   ]
  },
  {
   "cell_type": "code",
   "execution_count": 188,
   "metadata": {},
   "outputs": [
    {
     "name": "stdout",
     "output_type": "stream",
     "text": [
      "0.7750114\n"
     ]
    }
   ],
   "source": [
    "loss_test = s.run(\n",
    "    loss, {\n",
    "        input_X: X[:100],\n",
    "        input_y: y[-100:],\n",
    "        weights: test_weights+1.21e-3,\n",
    "        b: -1e-1})\n",
    "print(loss_test)\n",
    "# Yes, the X/y indices mistmach is intentional"
   ]
  },
  {
   "cell_type": "code",
   "execution_count": 189,
   "metadata": {
    "collapsed": true
   },
   "outputs": [],
   "source": [
    "grade_submitter.set_answer(\"mMVpM\", loss_test)"
   ]
  },
  {
   "cell_type": "code",
   "execution_count": 190,
   "metadata": {
    "collapsed": true
   },
   "outputs": [],
   "source": [
    "grade_submitter.set_answer(\"D16Rc\", roc_auc_score(y_test, s.run(predicted_y, {input_X:X_test})))"
   ]
  },
  {
   "cell_type": "markdown",
   "metadata": {},
   "source": [
    "Please use the credentials obtained from the Coursera assignment page."
   ]
  },
  {
   "cell_type": "code",
   "execution_count": 191,
   "metadata": {},
   "outputs": [
    {
     "name": "stdout",
     "output_type": "stream",
     "text": [
      "Submitted to Coursera platform. See results on assignment page!\n"
     ]
    }
   ],
   "source": [
    "grade_submitter.submit(\"goutham7r@gmail.com\", \"T1g2rhYbSNOdTO8g\")"
   ]
  },
  {
   "cell_type": "code",
   "execution_count": null,
   "metadata": {
    "collapsed": true
   },
   "outputs": [],
   "source": []
  }
 ],
 "metadata": {
  "kernelspec": {
   "display_name": "Python 3",
   "language": "python",
   "name": "python3"
  },
  "language_info": {
   "codemirror_mode": {
    "name": "ipython",
    "version": 3
   },
   "file_extension": ".py",
   "mimetype": "text/x-python",
   "name": "python",
   "nbconvert_exporter": "python",
   "pygments_lexer": "ipython3",
   "version": "3.5.2"
  }
 },
 "nbformat": 4,
 "nbformat_minor": 1
}
